{
 "cells": [
  {
   "cell_type": "code",
   "execution_count": 1,
   "metadata": {
    "colab": {
     "base_uri": "https://localhost:8080/"
    },
    "id": "TikwhxGwlqu7",
    "outputId": "fbf50959-f6ab-4470-9f9b-80b797d68a9a"
   },
   "outputs": [],
   "source": [
    "# Dependencias\n",
    "import os\n",
    "import math\n",
    "import tempfile\n",
    "import tensorflow as tf \n",
    "import numpy as np \n",
    "import pandas as pd\n",
    "import sklearn.metrics\n",
    "import matplotlib.pyplot as plt \n",
    "import tensorflow.keras.backend as K\n",
    "import tensorflow_datasets as tfds\n",
    "from tensorflow import keras\n",
    "from tensorflow.keras import datasets, utils, preprocessing\n",
    "from tensorflow.keras import models, losses, optimizers, regularizers\n",
    "from tensorflow.keras import layers\n",
    "from tensorflow.keras import Model\n",
    "from tensorflow.keras.utils import to_categorical\n",
    "from tensorflow.keras.models import Sequential\n",
    "from tensorflow.keras.layers import Conv2D, MaxPooling2D, Flatten, Dense, Dropout, Activation, BatchNormalization\n",
    "from tensorflow.keras.preprocessing.image import ImageDataGenerator\n",
    "from tensorflow.keras.regularizers import l2\n",
    "from tensorflow .keras.callbacks import ModelCheckpoint, ReduceLROnPlateau\n",
    "from numpy.random import seed\n",
    "from tensorflow import random"
   ]
  },
  {
   "cell_type": "code",
   "execution_count": 2,
   "metadata": {
    "colab": {
     "base_uri": "https://localhost:8080/"
    },
    "id": "0NvTVuv7OQDu",
    "outputId": "57a74792-1523-4719-cfaa-197f896804ad"
   },
   "outputs": [
    {
     "name": "stdout",
     "output_type": "stream",
     "text": [
      "2.3.0\n",
      "Num GPUs Available:  0\n"
     ]
    }
   ],
   "source": [
    "# Comprobar versión de TensorFlow\n",
    "print(tf.__version__)\n",
    "print(\"Num GPUs Available: \", len(tf.config.list_physical_devices('GPU')))\n",
    "\n",
    "\n",
    "# Fijar semilla\n",
    "seed(22)\n",
    "random.set_seed(22)"
   ]
  },
  {
   "cell_type": "code",
   "execution_count": 3,
   "metadata": {},
   "outputs": [],
   "source": [
    "# Definición de tamaño de la imagen y nº de canales\n",
    "img_rows, img_cols = 160, 160\n",
    "num_dim = 3\n",
    "num_classes = 10"
   ]
  },
  {
   "cell_type": "code",
   "execution_count": 4,
   "metadata": {
    "id": "RObhOy1plxzm"
   },
   "outputs": [
    {
     "name": "stdout",
     "output_type": "stream",
     "text": [
      "Found 9469 images belonging to 10 classes.\n",
      "Found 3925 images belonging to 10 classes.\n"
     ]
    }
   ],
   "source": [
    "# Crear un nuevo generador\n",
    "train_imagegen = ImageDataGenerator(\n",
    "        rescale=1./255,    \n",
    "        featurewise_center=False,  # set input mean to 0 over the dataset\n",
    "        samplewise_center=False,  # set each sample mean to 0\n",
    "        featurewise_std_normalization=False,  # divide inputs by std of the dataset\n",
    "        samplewise_std_normalization=False,  # divide each input by its std\n",
    "        zca_whitening=False,  # apply ZCA whitening\n",
    "        rotation_range=15,  # randomly rotate images in the range (degrees, 0 to 180)\n",
    "        width_shift_range=0.1,  # randomly shift images horizontally (fraction of total width)\n",
    "        height_shift_range=0.1,  # randomly shift images vertically (fraction of total height)\n",
    "        horizontal_flip=True,  # randomly flip images\n",
    "        vertical_flip=False)\n",
    "\n",
    "test_imagegen = ImageDataGenerator(rescale=1./255)\n",
    "# Cargar datos de entrenamiento\n",
    "train = train_imagegen.flow_from_directory(\"../../datasets/imagenette2-160/train/\",\n",
    "                                     class_mode=\"categorical\", \n",
    "                                     shuffle=True,\n",
    "                                     batch_size=32, \n",
    "                                     target_size=(160, 160))\n",
    "#  Cargar datos de validación\n",
    "val = test_imagegen.flow_from_directory(\"../../datasets/imagenette2-160/val/\", \n",
    "                                   class_mode=\"categorical\"\n",
    "                                        \n",
    "                                        , \n",
    "                                   shuffle=True, \n",
    "                                   batch_size=32, \n",
    "                                   target_size=(160, 160))"
   ]
  },
  {
   "cell_type": "code",
   "execution_count": 5,
   "metadata": {
    "colab": {
     "base_uri": "https://localhost:8080/"
    },
    "id": "r5rpHPpml3Va",
    "outputId": "03fa0be8-e6b9-4f08-9b78-157f3abce5ec",
    "scrolled": true
   },
   "outputs": [
    {
     "name": "stdout",
     "output_type": "stream",
     "text": [
      "Model: \"sequential\"\n",
      "_________________________________________________________________\n",
      "Layer (type)                 Output Shape              Param #   \n",
      "=================================================================\n",
      "conv2d (Conv2D)              (None, 160, 160, 32)      896       \n",
      "_________________________________________________________________\n",
      "activation (Activation)      (None, 160, 160, 32)      0         \n",
      "_________________________________________________________________\n",
      "conv2d_1 (Conv2D)            (None, 158, 158, 32)      9248      \n",
      "_________________________________________________________________\n",
      "activation_1 (Activation)    (None, 158, 158, 32)      0         \n",
      "_________________________________________________________________\n",
      "max_pooling2d (MaxPooling2D) (None, 79, 79, 32)        0         \n",
      "_________________________________________________________________\n",
      "dropout (Dropout)            (None, 79, 79, 32)        0         \n",
      "_________________________________________________________________\n",
      "conv2d_2 (Conv2D)            (None, 79, 79, 64)        18496     \n",
      "_________________________________________________________________\n",
      "activation_2 (Activation)    (None, 79, 79, 64)        0         \n",
      "_________________________________________________________________\n",
      "conv2d_3 (Conv2D)            (None, 77, 77, 64)        36928     \n",
      "_________________________________________________________________\n",
      "activation_3 (Activation)    (None, 77, 77, 64)        0         \n",
      "_________________________________________________________________\n",
      "max_pooling2d_1 (MaxPooling2 (None, 38, 38, 64)        0         \n",
      "_________________________________________________________________\n",
      "dropout_1 (Dropout)          (None, 38, 38, 64)        0         \n",
      "_________________________________________________________________\n",
      "conv2d_4 (Conv2D)            (None, 38, 38, 128)       73856     \n",
      "_________________________________________________________________\n",
      "activation_4 (Activation)    (None, 38, 38, 128)       0         \n",
      "_________________________________________________________________\n",
      "conv2d_5 (Conv2D)            (None, 36, 36, 128)       147584    \n",
      "_________________________________________________________________\n",
      "activation_5 (Activation)    (None, 36, 36, 128)       0         \n",
      "_________________________________________________________________\n",
      "max_pooling2d_2 (MaxPooling2 (None, 18, 18, 128)       0         \n",
      "_________________________________________________________________\n",
      "dropout_2 (Dropout)          (None, 18, 18, 128)       0         \n",
      "_________________________________________________________________\n",
      "conv2d_6 (Conv2D)            (None, 18, 18, 256)       295168    \n",
      "_________________________________________________________________\n",
      "activation_6 (Activation)    (None, 18, 18, 256)       0         \n",
      "_________________________________________________________________\n",
      "conv2d_7 (Conv2D)            (None, 16, 16, 256)       590080    \n",
      "_________________________________________________________________\n",
      "activation_7 (Activation)    (None, 16, 16, 256)       0         \n",
      "_________________________________________________________________\n",
      "max_pooling2d_3 (MaxPooling2 (None, 8, 8, 256)         0         \n",
      "_________________________________________________________________\n",
      "dropout_3 (Dropout)          (None, 8, 8, 256)         0         \n",
      "_________________________________________________________________\n",
      "flatten (Flatten)            (None, 16384)             0         \n",
      "_________________________________________________________________\n",
      "dense (Dense)                (None, 512)               8389120   \n",
      "_________________________________________________________________\n",
      "activation_8 (Activation)    (None, 512)               0         \n",
      "_________________________________________________________________\n",
      "dropout_4 (Dropout)          (None, 512)               0         \n",
      "_________________________________________________________________\n",
      "dense_1 (Dense)              (None, 10)                5130      \n",
      "_________________________________________________________________\n",
      "activation_9 (Activation)    (None, 10)                0         \n",
      "=================================================================\n",
      "Total params: 9,566,506\n",
      "Trainable params: 9,566,506\n",
      "Non-trainable params: 0\n",
      "_________________________________________________________________\n"
     ]
    }
   ],
   "source": [
    "# Reimplementación en Keras de VGG16\n",
    "# Basada en https://towardsdatascience.com/step-by-step-vgg16-implementation-in-keras-for-beginners-a833c686ae6c\n",
    "\n",
    "imagenettenet = Sequential()\n",
    "imagenettenet.add(Conv2D(32, (3, 3), padding='same',\n",
    "                 input_shape= (160, 160, 3)))\n",
    "imagenettenet.add(Activation('relu'))\n",
    "imagenettenet.add(Conv2D(32, (3, 3)))\n",
    "imagenettenet.add(Activation('relu'))\n",
    "imagenettenet.add(MaxPooling2D(pool_size=(2, 2)))\n",
    "imagenettenet.add(Dropout(0.25))\n",
    "\n",
    "imagenettenet.add(Conv2D(64, (3, 3), padding='same'))\n",
    "imagenettenet.add(Activation('relu'))\n",
    "imagenettenet.add(Conv2D(64, (3, 3)))\n",
    "imagenettenet.add(Activation('relu'))\n",
    "imagenettenet.add(MaxPooling2D(pool_size=(2, 2)))\n",
    "imagenettenet.add(Dropout(0.25))\n",
    "\n",
    "imagenettenet.add(Conv2D(128, (3, 3), padding='same'))\n",
    "imagenettenet.add(Activation('relu'))\n",
    "imagenettenet.add(Conv2D(128, (3, 3)))\n",
    "imagenettenet.add(Activation('relu'))\n",
    "imagenettenet.add(MaxPooling2D(pool_size=(2, 2)))\n",
    "imagenettenet.add(Dropout(0.25))\n",
    "\n",
    "imagenettenet.add(Conv2D(256, (3, 3), padding='same'))\n",
    "imagenettenet.add(Activation('relu'))\n",
    "imagenettenet.add(Conv2D(256, (3, 3)))\n",
    "imagenettenet.add(Activation('relu'))\n",
    "imagenettenet.add(MaxPooling2D(pool_size=(2, 2)))\n",
    "imagenettenet.add(Dropout(0.25))\n",
    "\n",
    "imagenettenet.add(Flatten())\n",
    "imagenettenet.add(Dense(512, kernel_regularizer=regularizers.l2(0.01), bias_regularizer=regularizers.l2(0.01)))\n",
    "imagenettenet.add(Activation('relu'))\n",
    "imagenettenet.add(Dropout(0.1))\n",
    "#imagenettenet.add(Dense(512, kernel_regularizer=regularizers.l2(0.01), bias_regularizer=regularizers.l2(0.01)))\n",
    "#imagenettenet.add(Activation('relu'))\n",
    "#imagenettenet.add(Dropout(0.5))\n",
    "imagenettenet.add(Dense(num_classes))\n",
    "imagenettenet.add(Activation('softmax'))\n",
    "\n",
    "imagenettenet.summary()"
   ]
  },
  {
   "cell_type": "code",
   "execution_count": 6,
   "metadata": {
    "id": "cQvBRMQ7l6dK"
   },
   "outputs": [],
   "source": [
    "# Definición de hiperparámetros\n",
    "learning_rate = 0.0001 # learning rate\n",
    "lr_decay = 1e-6\n",
    "lr_drop = 20\n",
    "epochs = 20  # Número de epochs\n",
    "\n",
    "opt = keras.optimizers.RMSprop(lr=0.0001, decay=1e-6)\n",
    "\n",
    "sgd = keras.optimizers.SGD(lr=0.001, decay=lr_decay, momentum=0.9, nesterov=True)\n",
    "\n",
    "reduce_lr = ReduceLROnPlateau(monitor='val_loss', factor=0.5,\n",
    "                              patience=0)\n",
    "\n",
    "early_stop = keras.callbacks.EarlyStopping(monitor='val_accuracy', \n",
    "                                                     min_delta=0, \n",
    "                                                     patience=8, \n",
    "                                                     verbose=0, \n",
    "                                                     mode='auto', \n",
    "                                                     baseline=None, \n",
    "                                                     restore_best_weights=False)\n",
    "\n",
    "# Compilamos la red neuronal\n",
    "imagenettenet.compile(optimizer=opt, loss='categorical_crossentropy', metrics=['accuracy'])"
   ]
  },
  {
   "cell_type": "code",
   "execution_count": 7,
   "metadata": {
    "colab": {
     "base_uri": "https://localhost:8080/"
    },
    "id": "-VOMBDnwl8WB",
    "outputId": "2cfda552-e3c2-407b-a205-5008d9ecabc7"
   },
   "outputs": [
    {
     "name": "stdout",
     "output_type": "stream",
     "text": [
      "WARNING:tensorflow:From <ipython-input-7-72a36d249643>:10: Model.fit_generator (from tensorflow.python.keras.engine.training) is deprecated and will be removed in a future version.\n",
      "Instructions for updating:\n",
      "Please use Model.fit, which supports generators.\n",
      "Epoch 1/20\n",
      "296/296 [==============================] - ETA: 0s - loss: 4.1816 - accuracy: 0.2381\n",
      "Epoch 00001: loss improved from inf to 4.18159, saving model to imagenetteNetKeras.h5\n",
      "296/296 [==============================] - 377s 1s/step - loss: 4.1816 - accuracy: 0.2381 - val_loss: 2.3193 - val_accuracy: 0.3549\n",
      "Epoch 2/20\n",
      "296/296 [==============================] - ETA: 0s - loss: 2.0922 - accuracy: 0.3605\n",
      "Epoch 00002: loss improved from 4.18159 to 2.09219, saving model to imagenetteNetKeras.h5\n",
      "296/296 [==============================] - 376s 1s/step - loss: 2.0922 - accuracy: 0.3605 - val_loss: 2.1027 - val_accuracy: 0.3373\n",
      "Epoch 3/20\n",
      "296/296 [==============================] - ETA: 0s - loss: 1.8531 - accuracy: 0.4191\n",
      "Epoch 00003: loss improved from 2.09219 to 1.85313, saving model to imagenetteNetKeras.h5\n",
      "296/296 [==============================] - 380s 1s/step - loss: 1.8531 - accuracy: 0.4191 - val_loss: 1.7665 - val_accuracy: 0.4517\n",
      "Epoch 4/20\n",
      "296/296 [==============================] - ETA: 0s - loss: 1.7083 - accuracy: 0.4724\n",
      "Epoch 00004: loss improved from 1.85313 to 1.70830, saving model to imagenetteNetKeras.h5\n",
      "296/296 [==============================] - 380s 1s/step - loss: 1.7083 - accuracy: 0.4724 - val_loss: 1.6229 - val_accuracy: 0.5088\n",
      "Epoch 5/20\n",
      "296/296 [==============================] - ETA: 0s - loss: 1.6115 - accuracy: 0.5057\n",
      "Epoch 00005: loss improved from 1.70830 to 1.61153, saving model to imagenetteNetKeras.h5\n",
      "296/296 [==============================] - 380s 1s/step - loss: 1.6115 - accuracy: 0.5057 - val_loss: 1.5793 - val_accuracy: 0.5213\n",
      "Epoch 6/20\n",
      "296/296 [==============================] - ETA: 0s - loss: 1.5513 - accuracy: 0.5284\n",
      "Epoch 00006: loss improved from 1.61153 to 1.55132, saving model to imagenetteNetKeras.h5\n",
      "296/296 [==============================] - 379s 1s/step - loss: 1.5513 - accuracy: 0.5284 - val_loss: 1.6600 - val_accuracy: 0.4983\n",
      "Epoch 7/20\n",
      "296/296 [==============================] - ETA: 0s - loss: 1.4986 - accuracy: 0.5457\n",
      "Epoch 00007: loss improved from 1.55132 to 1.49864, saving model to imagenetteNetKeras.h5\n",
      "296/296 [==============================] - 379s 1s/step - loss: 1.4986 - accuracy: 0.5457 - val_loss: 1.4764 - val_accuracy: 0.5643\n",
      "Epoch 8/20\n",
      "296/296 [==============================] - ETA: 0s - loss: 1.4469 - accuracy: 0.5668\n",
      "Epoch 00008: loss improved from 1.49864 to 1.44693, saving model to imagenetteNetKeras.h5\n",
      "296/296 [==============================] - 379s 1s/step - loss: 1.4469 - accuracy: 0.5668 - val_loss: 1.4299 - val_accuracy: 0.5832\n",
      "Epoch 9/20\n",
      "296/296 [==============================] - ETA: 0s - loss: 1.4018 - accuracy: 0.5795\n",
      "Epoch 00009: loss improved from 1.44693 to 1.40178, saving model to imagenetteNetKeras.h5\n",
      "296/296 [==============================] - 378s 1s/step - loss: 1.4018 - accuracy: 0.5795 - val_loss: 1.4399 - val_accuracy: 0.5855\n",
      "Epoch 10/20\n",
      "296/296 [==============================] - ETA: 0s - loss: 1.3600 - accuracy: 0.6004\n",
      "Epoch 00010: loss improved from 1.40178 to 1.36002, saving model to imagenetteNetKeras.h5\n",
      "296/296 [==============================] - 378s 1s/step - loss: 1.3600 - accuracy: 0.6004 - val_loss: 1.3936 - val_accuracy: 0.5949\n",
      "Epoch 11/20\n",
      "296/296 [==============================] - ETA: 0s - loss: 1.3111 - accuracy: 0.6151\n",
      "Epoch 00011: loss improved from 1.36002 to 1.31108, saving model to imagenetteNetKeras.h5\n",
      "296/296 [==============================] - 378s 1s/step - loss: 1.3111 - accuracy: 0.6151 - val_loss: 1.3541 - val_accuracy: 0.6066\n",
      "Epoch 12/20\n",
      "296/296 [==============================] - ETA: 0s - loss: 1.2922 - accuracy: 0.6265\n",
      "Epoch 00012: loss improved from 1.31108 to 1.29224, saving model to imagenetteNetKeras.h5\n",
      "296/296 [==============================] - 375s 1s/step - loss: 1.2922 - accuracy: 0.6265 - val_loss: 1.2702 - val_accuracy: 0.6464\n",
      "Epoch 13/20\n",
      "296/296 [==============================] - ETA: 0s - loss: 1.2627 - accuracy: 0.6332\n",
      "Epoch 00013: loss improved from 1.29224 to 1.26270, saving model to imagenetteNetKeras.h5\n",
      "296/296 [==============================] - 375s 1s/step - loss: 1.2627 - accuracy: 0.6332 - val_loss: 1.2536 - val_accuracy: 0.6492\n",
      "Epoch 14/20\n",
      "296/296 [==============================] - ETA: 0s - loss: 1.2333 - accuracy: 0.6432\n",
      "Epoch 00014: loss improved from 1.26270 to 1.23334, saving model to imagenetteNetKeras.h5\n",
      "296/296 [==============================] - 376s 1s/step - loss: 1.2333 - accuracy: 0.6432 - val_loss: 1.3729 - val_accuracy: 0.6102\n",
      "Epoch 15/20\n",
      "296/296 [==============================] - ETA: 0s - loss: 1.2172 - accuracy: 0.6577\n",
      "Epoch 00015: loss improved from 1.23334 to 1.21724, saving model to imagenetteNetKeras.h5\n",
      "296/296 [==============================] - 375s 1s/step - loss: 1.2172 - accuracy: 0.6577 - val_loss: 1.2252 - val_accuracy: 0.6591\n",
      "Epoch 16/20\n",
      "296/296 [==============================] - ETA: 0s - loss: 1.1811 - accuracy: 0.6632\n",
      "Epoch 00016: loss improved from 1.21724 to 1.18114, saving model to imagenetteNetKeras.h5\n",
      "296/296 [==============================] - 374s 1s/step - loss: 1.1811 - accuracy: 0.6632 - val_loss: 1.2027 - val_accuracy: 0.6609\n",
      "Epoch 17/20\n",
      "296/296 [==============================] - ETA: 0s - loss: 1.1660 - accuracy: 0.6691\n",
      "Epoch 00017: loss improved from 1.18114 to 1.16601, saving model to imagenetteNetKeras.h5\n",
      "296/296 [==============================] - 377s 1s/step - loss: 1.1660 - accuracy: 0.6691 - val_loss: 1.2646 - val_accuracy: 0.6484\n",
      "Epoch 18/20\n",
      "296/296 [==============================] - ETA: 0s - loss: 1.1465 - accuracy: 0.6829\n",
      "Epoch 00018: loss improved from 1.16601 to 1.14654, saving model to imagenetteNetKeras.h5\n",
      "296/296 [==============================] - 377s 1s/step - loss: 1.1465 - accuracy: 0.6829 - val_loss: 1.1035 - val_accuracy: 0.6958\n",
      "Epoch 19/20\n",
      "296/296 [==============================] - ETA: 0s - loss: 1.1210 - accuracy: 0.6885\n",
      "Epoch 00019: loss improved from 1.14654 to 1.12100, saving model to imagenetteNetKeras.h5\n",
      "296/296 [==============================] - 375s 1s/step - loss: 1.1210 - accuracy: 0.6885 - val_loss: 1.1714 - val_accuracy: 0.6726\n",
      "Epoch 20/20\n",
      "296/296 [==============================] - ETA: 0s - loss: 1.1136 - accuracy: 0.6889\n",
      "Epoch 00020: loss improved from 1.12100 to 1.11360, saving model to imagenetteNetKeras.h5\n",
      "296/296 [==============================] - 377s 1s/step - loss: 1.1136 - accuracy: 0.6889 - val_loss: 1.0759 - val_accuracy: 0.7045\n"
     ]
    }
   ],
   "source": [
    "# Entrenamos el modelo\n",
    "model_path = 'imagenetteNetKeras.h5'\n",
    "model_checkpoint = ModelCheckpoint(model_path, monitor='loss', verbose=1, save_best_only=True)\n",
    "\n",
    "history = imagenettenet.fit_generator(\n",
    "          train,\n",
    "          epochs=epochs,\n",
    "          validation_data=val,\n",
    "          verbose = 1,\n",
    "          callbacks=[model_checkpoint]\n",
    ")"
   ]
  },
  {
   "cell_type": "code",
   "execution_count": 8,
   "metadata": {
    "colab": {
     "base_uri": "https://localhost:8080/",
     "height": 295
    },
    "id": "SjvO_SX6l81F",
    "outputId": "1747fd27-2aff-4762-b766-fb1c85fb949e",
    "scrolled": true
   },
   "outputs": [
    {
     "data": {
      "image/png": "[encoded data removed]",
      "text/plain": [
       "<Figure size 432x288 with 1 Axes>"
      ]
     },
     "metadata": {
      "needs_background": "light"
     },
     "output_type": "display_data"
    }
   ],
   "source": [
    "# Pintar gráfica de Loss \n",
    "loss = history.history['loss']\n",
    "val_loss = history.history['val_loss']\n",
    "epochs = range(1, len(loss) + 1)\n",
    "\n",
    "plt.plot(epochs, loss, 'b.', label='Training loss')\n",
    "plt.plot(epochs, val_loss, 'r', label='Validation loss')\n",
    "plt.title('Training and validation loss')\n",
    "plt.xlabel('Epochs')\n",
    "plt.ylabel('Loss')\n",
    "plt.legend()\n",
    "plt.show()"
   ]
  },
  {
   "cell_type": "code",
   "execution_count": 10,
   "metadata": {
    "id": "zHvxB8gIGmSm"
   },
   "outputs": [],
   "source": [
    "# Guardar a disco modelo de Keras en formato h5 y h5py\n",
    "imagenettenet.save('imagenetteNetKeras.h5')"
   ]
  },
  {
   "cell_type": "code",
   "execution_count": null,
   "metadata": {},
   "outputs": [],
   "source": []
  }
 ],
 "metadata": {
  "colab": {
   "collapsed_sections": [],
   "name": "Untitled0.ipynb",
   "provenance": []
  },
  "kernelspec": {
   "display_name": "Python 3",
   "language": "python",
   "name": "python3"
  },
  "language_info": {
   "codemirror_mode": {
    "name": "ipython",
    "version": 3
   },
   "file_extension": ".py",
   "mimetype": "text/x-python",
   "name": "python",
   "nbconvert_exporter": "python",
   "pygments_lexer": "ipython3",
   "version": "3.6.9"
  },
  "metadata": {
   "interpreter": {
    "hash": "15dad678111f4055199e27812f8fd807e7e8880170b4c46fb7d59063d2f6dd63"
   }
  }
 },
 "nbformat": 4,
 "nbformat_minor": 1
}
