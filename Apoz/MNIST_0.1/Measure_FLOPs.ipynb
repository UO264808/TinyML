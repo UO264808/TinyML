{
 "cells": [
  {
   "cell_type": "code",
   "execution_count": 1,
   "id": "8b58455b",
   "metadata": {},
   "outputs": [],
   "source": [
    "import tensorflow as tf\n",
    "from tensorflow.keras import models\n",
    "from tensorflow.python.profiler.model_analyzer import profile\n",
    "from tensorflow.python.profiler.option_builder import ProfileOptionBuilder\n",
    "from tensorflow.python.framework.convert_to_constants import convert_variables_to_constants_v2_as_graph"
   ]
  },
  {
   "cell_type": "code",
   "execution_count": 2,
   "id": "a33e0329",
   "metadata": {},
   "outputs": [],
   "source": [
    "# Función para obtener el nº de FLOPs de una red neuronal\n",
    "def get_flops(model):\n",
    "    concrete = tf.function(lambda inputs: model(inputs))\n",
    "    concrete_func = concrete.get_concrete_function(\n",
    "        [tf.TensorSpec([1, *inputs.shape[1:]]) for inputs in model.inputs])\n",
    "    frozen_func, graph_def = convert_variables_to_constants_v2_as_graph(concrete_func)\n",
    "    with tf.Graph().as_default() as graph:\n",
    "        tf.graph_util.import_graph_def(graph_def, name='')\n",
    "        run_meta = tf.compat.v1.RunMetadata()\n",
    "        opts = tf.compat.v1.profiler.ProfileOptionBuilder.float_operation()\n",
    "        flops = tf.compat.v1.profiler.profile(graph=graph, run_meta=run_meta, cmd=\"op\", options=opts)\n",
    "        # The //2 is necessary since `profile` counts multiply and accumulate\n",
    "        # as two flops, here we report the total number of multiply accumulate ops\n",
    "        return flops.total_float_ops //2"
   ]
  },
  {
   "cell_type": "code",
   "execution_count": 3,
   "id": "6b24460f",
   "metadata": {},
   "outputs": [
    {
     "name": "stdout",
     "output_type": "stream",
     "text": [
      "Model: \"sequential\"\n",
      "_________________________________________________________________\n",
      "Layer (type)                 Output Shape              Param #   \n",
      "=================================================================\n",
      "conv2d (Conv2D)              (None, 24, 24, 20)        520       \n",
      "_________________________________________________________________\n",
      "activation (Activation)      (None, 24, 24, 20)        0         \n",
      "_________________________________________________________________\n",
      "conv2d_1 (Conv2D)            (None, 20, 20, 50)        25050     \n",
      "_________________________________________________________________\n",
      "activation_1 (Activation)    (None, 20, 20, 50)        0         \n",
      "_________________________________________________________________\n",
      "flatten (Flatten)            (None, 20000)             0         \n",
      "_________________________________________________________________\n",
      "dense (Dense)                (None, 100)               2000100   \n",
      "_________________________________________________________________\n",
      "activation_2 (Activation)    (None, 100)               0         \n",
      "_________________________________________________________________\n",
      "dense_1 (Dense)              (None, 10)                1010      \n",
      "_________________________________________________________________\n",
      "activation_3 (Activation)    (None, 10)                0         \n",
      "=================================================================\n",
      "Total params: 2,026,680\n",
      "Trainable params: 2,026,680\n",
      "Non-trainable params: 0\n",
      "_________________________________________________________________\n",
      "Model: \"functional_5\"\n",
      "_________________________________________________________________\n",
      "Layer (type)                 Output Shape              Param #   \n",
      "=================================================================\n",
      "conv2d_input (InputLayer)    [(None, 28, 28, 1)]       0         \n",
      "_________________________________________________________________\n",
      "conv2d (Conv2D)              (None, 24, 24, 20)        520       \n",
      "_________________________________________________________________\n",
      "activation (Activation)      (None, 24, 24, 20)        0         \n",
      "_________________________________________________________________\n",
      "conv2d_1 (Conv2D)            (None, 20, 20, 43)        21543     \n",
      "_________________________________________________________________\n",
      "activation_1 (Activation)    (None, 20, 20, 43)        0         \n",
      "_________________________________________________________________\n",
      "flatten (Flatten)            (None, 17200)             0         \n",
      "_________________________________________________________________\n",
      "dense (Dense)                (None, 100)               1720100   \n",
      "_________________________________________________________________\n",
      "activation_2 (Activation)    (None, 100)               0         \n",
      "_________________________________________________________________\n",
      "dense_1 (Dense)              (None, 10)                1010      \n",
      "_________________________________________________________________\n",
      "activation_3 (Activation)    (None, 10)                0         \n",
      "=================================================================\n",
      "Total params: 1,743,173\n",
      "Trainable params: 1,743,173\n",
      "Non-trainable params: 0\n",
      "_________________________________________________________________\n"
     ]
    }
   ],
   "source": [
    "# Importar modelo Keras\n",
    "model = models.load_model('../../models/MNIST_model/mnistnetKeras.h5')\n",
    "# Verificar modelo\n",
    "model.summary()\n",
    " \n",
    "# Importar modelo podado\n",
    "model_pruned = models.load_model('mnistnetKerasPruned.h5')\n",
    "# Verificar modelo podado\n",
    "model_pruned.summary()\n",
    "\n"
   ]
  },
  {
   "cell_type": "code",
   "execution_count": 4,
   "id": "f4c7cd56",
   "metadata": {},
   "outputs": [
    {
     "name": "stdout",
     "output_type": "stream",
     "text": [
      "WARNING:tensorflow:From /home/lucas/tfg-env/lib/python3.6/site-packages/tensorflow/python/ops/nn_ops.py:4776: tensor_shape_from_node_def_name (from tensorflow.python.framework.graph_util_impl) is deprecated and will be removed in a future version.\n",
      "Instructions for updating:\n",
      "Use `tf.compat.v1.graph_util.tensor_shape_from_node_def_name`\n",
      "Nº de FLOPs del modelo original: 12304840\n",
      "Nº de FLOPs del modelo podado: 10623440\n"
     ]
    }
   ],
   "source": [
    "print('Nº de FLOPs del modelo original: {}'.format(get_flops(model)))\n",
    "print('Nº de FLOPs del modelo podado: {}'.format(get_flops(model_pruned)))"
   ]
  },
  {
   "cell_type": "code",
   "execution_count": null,
   "id": "d4986711",
   "metadata": {},
   "outputs": [],
   "source": []
  }
 ],
 "metadata": {
  "kernelspec": {
   "display_name": "Python 3",
   "language": "python",
   "name": "python3"
  },
  "language_info": {
   "codemirror_mode": {
    "name": "ipython",
    "version": 3
   },
   "file_extension": ".py",
   "mimetype": "text/x-python",
   "name": "python",
   "nbconvert_exporter": "python",
   "pygments_lexer": "ipython3",
   "version": "3.6.9"
  }
 },
 "nbformat": 4,
 "nbformat_minor": 5
}
