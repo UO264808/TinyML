{
 "cells": [
  {
   "cell_type": "code",
   "execution_count": 1,
   "metadata": {
    "colab": {
     "base_uri": "https://localhost:8080/"
    },
    "id": "TikwhxGwlqu7",
    "outputId": "fbf50959-f6ab-4470-9f9b-80b797d68a9a"
   },
   "outputs": [],
   "source": [
    "# Dependencias\n",
    "import os\n",
    "import math\n",
    "import tempfile\n",
    "import tensorflow as tf \n",
    "import numpy as np \n",
    "import pandas as pd\n",
    "import sklearn.metrics\n",
    "import matplotlib.pyplot as plt \n",
    "import tensorflow.keras.backend as K\n",
    "from tensorflow.keras import datasets, utils, preprocessing\n",
    "from tensorflow.keras import models, losses, optimizers\n",
    "from tensorflow.keras import layers\n",
    "from tensorflow.keras.utils import to_categorical\n",
    "from tensorflow.keras.models import Sequential\n",
    "from tensorflow.keras.layers import Conv2D, MaxPooling2D, Flatten, Dense, Dropout, Activation\n",
    "from numpy.random import seed\n",
    "from tensorflow import random"
   ]
  },
  {
   "cell_type": "code",
   "execution_count": 2,
   "metadata": {
    "colab": {
     "base_uri": "https://localhost:8080/"
    },
    "id": "0NvTVuv7OQDu",
    "outputId": "57a74792-1523-4719-cfaa-197f896804ad"
   },
   "outputs": [
    {
     "name": "stdout",
     "output_type": "stream",
     "text": [
      "2.3.0\n",
      "Num GPUs Available:  0\n"
     ]
    }
   ],
   "source": [
    "# Comprobar versión de TensorFlow\n",
    "print(tf.__version__)\n",
    "print(\"Num GPUs Available: \", len(tf.config.list_physical_devices('GPU')))\n",
    "\n",
    "#apaño para un error\n",
    "from tensorflow.compat.v1 import ConfigProto\n",
    "from tensorflow.compat.v1 import InteractiveSession\n",
    "\n",
    " \n",
    "\n",
    "config = ConfigProto()\n",
    "config.gpu_options.allow_growth = True\n",
    "session = InteractiveSession(config=config)\n",
    "#fin apaño\n",
    "\n",
    "# Fijar semilla\n",
    "seed(22)\n",
    "random.set_seed(22)"
   ]
  },
  {
   "cell_type": "code",
   "execution_count": 3,
   "metadata": {
    "id": "RObhOy1plxzm"
   },
   "outputs": [],
   "source": [
    "# Obtener dataset\n",
    "(x_train, y_train), (x_test, y_test) = datasets.mnist.load_data(path=\"mnist.npz\")"
   ]
  },
  {
   "cell_type": "code",
   "execution_count": 4,
   "metadata": {
    "colab": {
     "base_uri": "https://localhost:8080/"
    },
    "id": "GSDelv73lyUW",
    "outputId": "2a46e9ad-67ed-4d40-e600-32f1361e0b30"
   },
   "outputs": [
    {
     "name": "stdout",
     "output_type": "stream",
     "text": [
      "(10000, 28, 28, 1)\n",
      "(60000, 28, 28, 1)\n"
     ]
    }
   ],
   "source": [
    "# Normalizar datos de test y train (originalmente 255 valores)\n",
    "x_test = x_test.astype('float32')\n",
    "x_train = x_train.astype('float32')\n",
    "x_test /= 255\n",
    "x_train /= 255\n",
    "\n",
    "img_rows, img_cols = 28, 28\n",
    "num_dim = 1\n",
    "num_classes = 10\n",
    "\n",
    "# Pasar de matriz a vectores\n",
    "x_train = x_train.reshape(x_train.shape[0], img_rows, img_cols, num_dim)\n",
    "x_test = x_test.reshape(x_test.shape[0], img_rows, img_cols, num_dim)\n",
    "\n",
    "print(x_test.shape)\n",
    "print(x_train.shape)"
   ]
  },
  {
   "cell_type": "code",
   "execution_count": 5,
   "metadata": {
    "colab": {
     "base_uri": "https://localhost:8080/"
    },
    "id": "2TSH8CS7l0O1",
    "outputId": "9bd98e7b-1ed4-4154-bbf4-11644f2057be"
   },
   "outputs": [
    {
     "name": "stdout",
     "output_type": "stream",
     "text": [
      "(10000, 10)\n",
      "(60000, 10)\n"
     ]
    }
   ],
   "source": [
    "# Codificación One-hot para las clases\n",
    "y_test_oh = to_categorical(y_test, num_classes)\n",
    "y_train_oh = to_categorical(y_train, num_classes)\n",
    "\n",
    "print(y_test_oh.shape)\n",
    "print(y_train_oh.shape)"
   ]
  },
  {
   "cell_type": "code",
   "execution_count": 6,
   "metadata": {
    "colab": {
     "base_uri": "https://localhost:8080/"
    },
    "id": "r5rpHPpml3Va",
    "outputId": "03fa0be8-e6b9-4f08-9b78-157f3abce5ec",
    "scrolled": true
   },
   "outputs": [
    {
     "name": "stdout",
     "output_type": "stream",
     "text": [
      "Model: \"sequential\"\n",
      "_________________________________________________________________\n",
      "Layer (type)                 Output Shape              Param #   \n",
      "=================================================================\n",
      "conv2d (Conv2D)              (None, 24, 24, 20)        520       \n",
      "_________________________________________________________________\n",
      "activation (Activation)      (None, 24, 24, 20)        0         \n",
      "_________________________________________________________________\n",
      "conv2d_1 (Conv2D)            (None, 20, 20, 50)        25050     \n",
      "_________________________________________________________________\n",
      "activation_1 (Activation)    (None, 20, 20, 50)        0         \n",
      "_________________________________________________________________\n",
      "flatten (Flatten)            (None, 20000)             0         \n",
      "_________________________________________________________________\n",
      "dense (Dense)                (None, 100)               2000100   \n",
      "_________________________________________________________________\n",
      "activation_2 (Activation)    (None, 100)               0         \n",
      "_________________________________________________________________\n",
      "dense_1 (Dense)              (None, 10)                1010      \n",
      "_________________________________________________________________\n",
      "activation_3 (Activation)    (None, 10)                0         \n",
      "=================================================================\n",
      "Total params: 2,026,680\n",
      "Trainable params: 2,026,680\n",
      "Non-trainable params: 0\n",
      "_________________________________________________________________\n"
     ]
    }
   ],
   "source": [
    "# Reimplementación en Keras de MNISTNet\n",
    "# Basada en https://github.com/JJGO/shrinkbench/blob/master/models/mnistnet.py\n",
    "\n",
    "mnistnet = Sequential()\n",
    "\n",
    "mnistnet.add(Conv2D(20, 5, input_shape=(img_rows, img_cols, num_dim)))\n",
    "mnistnet.add(Activation(tf.nn.relu))\n",
    "mnistnet.add(Conv2D(50, 5))\n",
    "mnistnet.add(Activation(tf.nn.relu))\n",
    "mnistnet.add(Flatten())\n",
    "mnistnet.add(Dense(100))\n",
    "mnistnet.add(Activation(tf.nn.relu))\n",
    "mnistnet.add(Dense(y_train_oh.shape[1]))\n",
    "mnistnet.add(Activation(tf.nn.softmax))\n",
    "\n",
    "\n",
    "# Imprimimos resumen de la red\n",
    "mnistnet.summary()"
   ]
  },
  {
   "cell_type": "code",
   "execution_count": 7,
   "metadata": {
    "id": "cQvBRMQ7l6dK"
   },
   "outputs": [],
   "source": [
    "# Definición de hiperparámetros\n",
    "learning_rate = 0.0001  # learning rate\n",
    "batch_size = 16   # Tamaño del batch\n",
    "epochs = 30  # Número de epochs\n",
    "adam = optimizers.Adam(learning_rate=learning_rate)\n",
    "\n",
    "# Compilamos la red neuronal\n",
    "mnistnet.compile(optimizer=adam, loss='categorical_crossentropy', metrics=['accuracy'])"
   ]
  },
  {
   "cell_type": "code",
   "execution_count": null,
   "metadata": {
    "colab": {
     "base_uri": "https://localhost:8080/"
    },
    "id": "-VOMBDnwl8WB",
    "outputId": "2cfda552-e3c2-407b-a205-5008d9ecabc7"
   },
   "outputs": [
    {
     "name": "stdout",
     "output_type": "stream",
     "text": [
      "Epoch 1/30\n",
      "2344/3750 [=================>............] - ETA: 16s - loss: 0.2166 - accuracy: 0.9382"
     ]
    }
   ],
   "source": [
    "# Entrenamos el modelo\n",
    "history = mnistnet.fit(x_train, y_train_oh, epochs=epochs, batch_size=batch_size,\n",
    "                        validation_data=(x_test, y_test_oh))"
   ]
  },
  {
   "cell_type": "code",
   "execution_count": null,
   "metadata": {
    "colab": {
     "base_uri": "https://localhost:8080/",
     "height": 295
    },
    "id": "SjvO_SX6l81F",
    "outputId": "1747fd27-2aff-4762-b766-fb1c85fb949e"
   },
   "outputs": [],
   "source": [
    "# Pintar gráfica de Loss (MSE)\n",
    "loss = history.history['loss']\n",
    "val_loss = history.history['val_loss']\n",
    "epochs = range(1, len(loss) + 1)\n",
    "\n",
    "plt.plot(epochs, loss, 'b.', label='Training loss')\n",
    "plt.plot(epochs, val_loss, 'r', label='Validation loss')\n",
    "plt.title('Training and validation loss')\n",
    "plt.xlabel('Epochs')\n",
    "plt.ylabel('Loss')\n",
    "plt.legend()\n",
    "plt.show()"
   ]
  },
  {
   "cell_type": "code",
   "execution_count": null,
   "metadata": {
    "id": "zHvxB8gIGmSm"
   },
   "outputs": [],
   "source": [
    "# Guardar a disco modelo de Keras en formato h5 y h5py\n",
    "mnistnet.save('mnistnetKeras.h5')"
   ]
  }
 ],
 "metadata": {
  "colab": {
   "collapsed_sections": [],
   "name": "Untitled0.ipynb",
   "provenance": []
  },
  "kernelspec": {
   "display_name": "Python 3",
   "language": "python",
   "name": "python3"
  },
  "language_info": {
   "codemirror_mode": {
    "name": "ipython",
    "version": 3
   },
   "file_extension": ".py",
   "mimetype": "text/x-python",
   "name": "python",
   "nbconvert_exporter": "python",
   "pygments_lexer": "ipython3",
   "version": "3.6.9"
  },
  "metadata": {
   "interpreter": {
    "hash": "15dad678111f4055199e27812f8fd807e7e8880170b4c46fb7d59063d2f6dd63"
   }
  }
 },
 "nbformat": 4,
 "nbformat_minor": 1
}
