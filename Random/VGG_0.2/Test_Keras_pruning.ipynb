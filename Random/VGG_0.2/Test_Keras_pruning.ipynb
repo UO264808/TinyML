{
 "cells": [
  {
   "cell_type": "code",
   "execution_count": 1,
   "metadata": {
    "colab": {
     "base_uri": "https://localhost:8080/"
    },
    "id": "TikwhxGwlqu7",
    "outputId": "fbf50959-f6ab-4470-9f9b-80b797d68a9a"
   },
   "outputs": [],
   "source": [
    "# Dependencias\n",
    "import os\n",
    "import math\n",
    "import tempfile\n",
    "import tensorflow as tf \n",
    "import numpy as np \n",
    "import pandas as pd\n",
    "import sklearn.metrics\n",
    "import matplotlib.pyplot as plt \n",
    "import tensorflow.keras.backend as K\n",
    "from tensorflow.keras import datasets, utils, preprocessing\n",
    "from tensorflow.keras import models, losses, optimizers\n",
    "from tensorflow.keras import layers\n",
    "from tensorflow.keras.utils import to_categorical\n",
    "from tensorflow.keras.models import Sequential\n",
    "from tensorflow.keras.layers import Conv2D, MaxPooling2D, Flatten, Dense, Dropout, Activation\n",
    "from numpy.random import seed\n",
    "from tensorflow import random"
   ]
  },
  {
   "cell_type": "code",
   "execution_count": 2,
   "metadata": {
    "colab": {
     "base_uri": "https://localhost:8080/"
    },
    "id": "0NvTVuv7OQDu",
    "outputId": "57a74792-1523-4719-cfaa-197f896804ad"
   },
   "outputs": [
    {
     "name": "stdout",
     "output_type": "stream",
     "text": [
      "2.3.0\n",
      "Num GPUs Available:  0\n"
     ]
    }
   ],
   "source": [
    "# Comprobar versión de TensorFlow\n",
    "print(tf.__version__)\n",
    "print(\"Num GPUs Available: \", len(tf.config.list_physical_devices('GPU')))\n",
    "\n",
    "#apaño para un error\n",
    "from tensorflow.compat.v1 import ConfigProto\n",
    "from tensorflow.compat.v1 import InteractiveSession\n",
    "\n",
    " \n",
    "\n",
    "config = ConfigProto()\n",
    "config.gpu_options.allow_growth = True\n",
    "session = InteractiveSession(config=config)\n",
    "#fin apaño\n",
    "\n",
    "# Fijar semilla\n",
    "seed(22)\n",
    "random.set_seed(22)"
   ]
  },
  {
   "cell_type": "code",
   "execution_count": 3,
   "metadata": {
    "colab": {
     "base_uri": "https://localhost:8080/"
    },
    "id": "0NvTVuv7OQDu",
    "outputId": "57a74792-1523-4719-cfaa-197f896804ad"
   },
   "outputs": [],
   "source": [
    "#Fijar método y porcentaje de poda\n",
    "METHOD = 'random'\n",
    "PERCENT = 0.2"
   ]
  },
  {
   "cell_type": "code",
   "execution_count": 4,
   "metadata": {
    "id": "RObhOy1plxzm"
   },
   "outputs": [],
   "source": [
    "# Obtener dataset\n",
    "(x_train, y_train), (x_test, y_test) = datasets.cifar10.load_data()\n",
    "assert x_train.shape == (50000, 32, 32, 3)\n",
    "assert x_test.shape == (10000, 32, 32, 3)\n",
    "assert y_train.shape == (50000, 1)\n",
    "assert y_test.shape == (10000, 1)"
   ]
  },
  {
   "cell_type": "code",
   "execution_count": 5,
   "metadata": {
    "colab": {
     "base_uri": "https://localhost:8080/"
    },
    "id": "GSDelv73lyUW",
    "outputId": "2a46e9ad-67ed-4d40-e600-32f1361e0b30"
   },
   "outputs": [
    {
     "name": "stdout",
     "output_type": "stream",
     "text": [
      "(10000, 32, 32, 3)\n",
      "(50000, 32, 32, 3)\n"
     ]
    }
   ],
   "source": [
    "# Normalizar datos de test y train (originalmente 255 valores)\n",
    "x_test = x_test.astype('float32')\n",
    "x_train = x_train.astype('float32')\n",
    "x_test /= 255\n",
    "x_train /= 255\n",
    "\n",
    "img_rows, img_cols = 32, 32\n",
    "num_dim = 3\n",
    "num_classes = 10\n",
    "\n",
    "# Pasar de matriz a vectores\n",
    "#x_train = x_train.reshape(x_train.shape[0], img_rows, img_cols, num_dim)\n",
    "#x_test = x_test.reshape(x_test.shape[0], img_rows, img_cols, num_dim)\n",
    "\n",
    "print(x_test.shape)\n",
    "print(x_train.shape)"
   ]
  },
  {
   "cell_type": "code",
   "execution_count": 6,
   "metadata": {
    "colab": {
     "base_uri": "https://localhost:8080/"
    },
    "id": "2TSH8CS7l0O1",
    "outputId": "9bd98e7b-1ed4-4154-bbf4-11644f2057be"
   },
   "outputs": [
    {
     "name": "stdout",
     "output_type": "stream",
     "text": [
      "(10000, 10)\n",
      "(50000, 10)\n"
     ]
    }
   ],
   "source": [
    "# Codificación One-hot para las clases\n",
    "y_test_oh = to_categorical(y_test, num_classes)\n",
    "y_train_oh = to_categorical(y_train, num_classes)\n",
    "\n",
    "print(y_test_oh.shape)\n",
    "print(y_train_oh.shape)"
   ]
  },
  {
   "cell_type": "code",
   "execution_count": 7,
   "metadata": {
    "id": "cQvBRMQ7l6dK"
   },
   "outputs": [],
   "source": [
    "# Definición de hiperparámetros\n",
    "learning_rate = 0.1  # learning rate\n",
    "batch_size = 128   # Tamaño del batch\n",
    "epochs = 1  # Número de epochs\n",
    "adam = optimizers.SGD(learning_rate=learning_rate)"
   ]
  },
  {
   "cell_type": "code",
   "execution_count": 8,
   "metadata": {
    "colab": {
     "base_uri": "https://localhost:8080/",
     "height": 36
    },
    "id": "vQbNZj6vmEQM",
    "outputId": "41b74217-ce68-437a-a5a3-651723080a79"
   },
   "outputs": [
    {
     "data": {
      "text/plain": [
       "'\\nLA PARTE DE PRUNING\\n'"
      ]
     },
     "execution_count": 8,
     "metadata": {},
     "output_type": "execute_result"
    }
   ],
   "source": [
    "\"\"\"\n",
    "LA PARTE DE PRUNING\n",
    "\"\"\""
   ]
  },
  {
   "cell_type": "code",
   "execution_count": 9,
   "metadata": {},
   "outputs": [
    {
     "name": "stdout",
     "output_type": "stream",
     "text": [
      "Model: \"sequential\"\n",
      "_________________________________________________________________\n",
      "Layer (type)                 Output Shape              Param #   \n",
      "=================================================================\n",
      "conv2d (Conv2D)              (None, 32, 32, 64)        1792      \n",
      "_________________________________________________________________\n",
      "activation (Activation)      (None, 32, 32, 64)        0         \n",
      "_________________________________________________________________\n",
      "batch_normalization (BatchNo (None, 32, 32, 64)        256       \n",
      "_________________________________________________________________\n",
      "dropout (Dropout)            (None, 32, 32, 64)        0         \n",
      "_________________________________________________________________\n",
      "conv2d_1 (Conv2D)            (None, 32, 32, 64)        36928     \n",
      "_________________________________________________________________\n",
      "activation_1 (Activation)    (None, 32, 32, 64)        0         \n",
      "_________________________________________________________________\n",
      "batch_normalization_1 (Batch (None, 32, 32, 64)        256       \n",
      "_________________________________________________________________\n",
      "max_pooling2d (MaxPooling2D) (None, 16, 16, 64)        0         \n",
      "_________________________________________________________________\n",
      "conv2d_2 (Conv2D)            (None, 16, 16, 128)       73856     \n",
      "_________________________________________________________________\n",
      "activation_2 (Activation)    (None, 16, 16, 128)       0         \n",
      "_________________________________________________________________\n",
      "batch_normalization_2 (Batch (None, 16, 16, 128)       512       \n",
      "_________________________________________________________________\n",
      "dropout_1 (Dropout)          (None, 16, 16, 128)       0         \n",
      "_________________________________________________________________\n",
      "conv2d_3 (Conv2D)            (None, 16, 16, 128)       147584    \n",
      "_________________________________________________________________\n",
      "activation_3 (Activation)    (None, 16, 16, 128)       0         \n",
      "_________________________________________________________________\n",
      "batch_normalization_3 (Batch (None, 16, 16, 128)       512       \n",
      "_________________________________________________________________\n",
      "max_pooling2d_1 (MaxPooling2 (None, 8, 8, 128)         0         \n",
      "_________________________________________________________________\n",
      "conv2d_4 (Conv2D)            (None, 8, 8, 256)         295168    \n",
      "_________________________________________________________________\n",
      "activation_4 (Activation)    (None, 8, 8, 256)         0         \n",
      "_________________________________________________________________\n",
      "batch_normalization_4 (Batch (None, 8, 8, 256)         1024      \n",
      "_________________________________________________________________\n",
      "dropout_2 (Dropout)          (None, 8, 8, 256)         0         \n",
      "_________________________________________________________________\n",
      "conv2d_5 (Conv2D)            (None, 8, 8, 256)         590080    \n",
      "_________________________________________________________________\n",
      "activation_5 (Activation)    (None, 8, 8, 256)         0         \n",
      "_________________________________________________________________\n",
      "batch_normalization_5 (Batch (None, 8, 8, 256)         1024      \n",
      "_________________________________________________________________\n",
      "dropout_3 (Dropout)          (None, 8, 8, 256)         0         \n",
      "_________________________________________________________________\n",
      "conv2d_6 (Conv2D)            (None, 8, 8, 256)         590080    \n",
      "_________________________________________________________________\n",
      "activation_6 (Activation)    (None, 8, 8, 256)         0         \n",
      "_________________________________________________________________\n",
      "batch_normalization_6 (Batch (None, 8, 8, 256)         1024      \n",
      "_________________________________________________________________\n",
      "max_pooling2d_2 (MaxPooling2 (None, 4, 4, 256)         0         \n",
      "_________________________________________________________________\n",
      "conv2d_7 (Conv2D)            (None, 4, 4, 512)         1180160   \n",
      "_________________________________________________________________\n",
      "activation_7 (Activation)    (None, 4, 4, 512)         0         \n",
      "_________________________________________________________________\n",
      "batch_normalization_7 (Batch (None, 4, 4, 512)         2048      \n",
      "_________________________________________________________________\n",
      "dropout_4 (Dropout)          (None, 4, 4, 512)         0         \n",
      "_________________________________________________________________\n",
      "conv2d_8 (Conv2D)            (None, 4, 4, 512)         2359808   \n",
      "_________________________________________________________________\n",
      "activation_8 (Activation)    (None, 4, 4, 512)         0         \n",
      "_________________________________________________________________\n",
      "batch_normalization_8 (Batch (None, 4, 4, 512)         2048      \n",
      "_________________________________________________________________\n",
      "dropout_5 (Dropout)          (None, 4, 4, 512)         0         \n",
      "_________________________________________________________________\n",
      "conv2d_9 (Conv2D)            (None, 4, 4, 512)         2359808   \n",
      "_________________________________________________________________\n",
      "activation_9 (Activation)    (None, 4, 4, 512)         0         \n",
      "_________________________________________________________________\n",
      "batch_normalization_9 (Batch (None, 4, 4, 512)         2048      \n",
      "_________________________________________________________________\n",
      "max_pooling2d_3 (MaxPooling2 (None, 2, 2, 512)         0         \n",
      "_________________________________________________________________\n",
      "conv2d_10 (Conv2D)           (None, 2, 2, 512)         2359808   \n",
      "_________________________________________________________________\n",
      "activation_10 (Activation)   (None, 2, 2, 512)         0         \n",
      "_________________________________________________________________\n",
      "batch_normalization_10 (Batc (None, 2, 2, 512)         2048      \n",
      "_________________________________________________________________\n",
      "dropout_6 (Dropout)          (None, 2, 2, 512)         0         \n",
      "_________________________________________________________________\n",
      "conv2d_11 (Conv2D)           (None, 2, 2, 512)         2359808   \n",
      "_________________________________________________________________\n",
      "activation_11 (Activation)   (None, 2, 2, 512)         0         \n",
      "_________________________________________________________________\n",
      "batch_normalization_11 (Batc (None, 2, 2, 512)         2048      \n",
      "_________________________________________________________________\n",
      "dropout_7 (Dropout)          (None, 2, 2, 512)         0         \n",
      "_________________________________________________________________\n",
      "conv2d_12 (Conv2D)           (None, 2, 2, 512)         2359808   \n",
      "_________________________________________________________________\n",
      "activation_12 (Activation)   (None, 2, 2, 512)         0         \n",
      "_________________________________________________________________\n",
      "batch_normalization_12 (Batc (None, 2, 2, 512)         2048      \n",
      "_________________________________________________________________\n",
      "max_pooling2d_4 (MaxPooling2 (None, 1, 1, 512)         0         \n",
      "_________________________________________________________________\n",
      "dropout_8 (Dropout)          (None, 1, 1, 512)         0         \n",
      "_________________________________________________________________\n",
      "flatten (Flatten)            (None, 512)               0         \n",
      "_________________________________________________________________\n",
      "dense (Dense)                (None, 512)               262656    \n",
      "_________________________________________________________________\n",
      "activation_13 (Activation)   (None, 512)               0         \n",
      "_________________________________________________________________\n",
      "batch_normalization_13 (Batc (None, 512)               2048      \n",
      "_________________________________________________________________\n",
      "dropout_9 (Dropout)          (None, 512)               0         \n",
      "_________________________________________________________________\n",
      "dense_1 (Dense)              (None, 10)                5130      \n",
      "_________________________________________________________________\n",
      "activation_14 (Activation)   (None, 10)                0         \n",
      "=================================================================\n",
      "Total params: 15,001,418\n",
      "Trainable params: 14,991,946\n",
      "Non-trainable params: 9,472\n",
      "_________________________________________________________________\n"
     ]
    }
   ],
   "source": [
    "# Importar modelo Keras\n",
    "vgg16 = models.load_model('../../models/VGG16_model/vgg16Keras.h5')\n",
    "\n",
    "# Verificar que el modelo es el correcto\n",
    "vgg16.summary()"
   ]
  },
  {
   "cell_type": "code",
   "execution_count": 10,
   "metadata": {
    "colab": {
     "base_uri": "https://localhost:8080/"
    },
    "id": "s8QQmGYfmEtm",
    "outputId": "a666d038-d446-46a1-b25a-4394a787ebe2"
   },
   "outputs": [],
   "source": [
    "#!pip install folium==0.2.1\n",
    "#!pip install imgaug==0.2.6\n",
    "#!pip install kerassurgeon\n",
    "\n",
    "import tensorflow.keras.backend as K\n",
    "from tensorflow.keras.preprocessing.image import ImageDataGenerator\n",
    "from tensorflow.keras.models import Model\n",
    "from kerassurgeon import Surgeon, identify\n",
    "from kerassurgeon.operations import delete_channels, delete_layer\n",
    "import os\n",
    "import numpy as np\n",
    "import math\n",
    "  \n",
    "def get_filter_weights(model, layer=None):\n",
    "    \"\"\"function to return weights array for one or all conv layers of a Keras model\"\"\"\n",
    "    if layer or layer==0:\n",
    "        weight_array = model.layers[layer].get_weights()[0]\n",
    "        \n",
    "    else:\n",
    "        weights = [model.layers[layer_ix].get_weights()[0] for layer_ix in range(len(model.layers))\\\n",
    "         if 'conv' in model.layers[layer_ix].name]\n",
    "        weight_array = [np.array(i) for i in weights]\n",
    "    \n",
    "    return weight_array\n",
    "\n",
    "def get_filters_l1(model, layer=None):\n",
    "    \"\"\"Returns L1 norm of a Keras model filters at a given conv layer, if layer=None, returns a matrix of norms\n",
    "model is a Keras model\"\"\"\n",
    "    if layer or layer==0:\n",
    "        weights = get_filter_weights(model, layer)\n",
    "        num_filter = len(weights[0,0,0,:])\n",
    "        norms_dict = {}\n",
    "        norms = []\n",
    "        for i in range(num_filter):\n",
    "            l1_norm = np.sum(abs(weights[:,:,:,i]))\n",
    "            norms.append(l1_norm)\n",
    "    else:\n",
    "        weights = get_filter_weights(model)\n",
    "        max_kernels = max([layr.shape[3] for layr in weights])\n",
    "        norms = np.empty((len(weights), max_kernels))\n",
    "        norms[:] = np.NaN\n",
    "        for layer_ix in range(len(weights)):\n",
    "            # compute norm of the filters\n",
    "            kernel_size = weights[layer_ix][:,:,:,0].size\n",
    "            nb_filters = weights[layer_ix].shape[3]\n",
    "            kernels = weights[layer_ix]\n",
    "            l1 = [np.sum(abs(kernels[:,:,:,i])) for i in range(nb_filters)]\n",
    "            # divide by shape of the filters\n",
    "            l1 = np.array(l1) / kernel_size\n",
    "            norms[layer_ix, :nb_filters] = l1\n",
    "    return norms"
   ]
  },
  {
   "cell_type": "code",
   "execution_count": 11,
   "metadata": {
    "id": "yFiJt2HimHn0"
   },
   "outputs": [],
   "source": [
    "def get_filters_apoz(model, layer=None):\n",
    "    \n",
    "    # Get a sample of the train set , or should it be the validation set ?\n",
    "    test_generator = ImageDataGenerator(rescale=1./255, validation_split=0.1)\n",
    "\n",
    "    apoz_generator = test_generator.flow(\n",
    "                x_test,\n",
    "                batch_size = 1,\n",
    "                subset='validation',\n",
    "                shuffle = False)\n",
    "    \n",
    "    if layer or layer ==0:\n",
    "        assert 'conv' in model.layers[layer].name, \"The layer provided is not a convolution layer\"\n",
    "        weights_array = get_filter_weights(model, layer)\n",
    "        act_ix = layer + 1\n",
    "        nb_filters = weights_array.shape[3]\n",
    "        apoz = compute_apoz(model, act_ix, nb_filters, apoz_generator)\n",
    "                \n",
    "    else :\n",
    "        weights_array = get_filter_weights(model)\n",
    "        max_kernels = max([layr.shape[3] for layr in weights_array])\n",
    "\n",
    "        conv_indexes = [i for i, v in enumerate(model.layers) if 'conv' in v.name]\n",
    "        #print('------------------------------------------------')\n",
    "        activations_indexes = [i for i,v in enumerate(model.layers) if 'activation' \\\n",
    "                       in v.name and 'conv' in model.layers[i-1].name]\n",
    "        #for i,v in enumerate(model.layers):\n",
    "          #print(i)\n",
    "          #print(v)\n",
    "        #print('------------------------------------------------')\n",
    "        # create nd array to collect values\n",
    "        apoz = np.zeros((len(weights_array), max_kernels))\n",
    "\n",
    "        for i, act_ix in enumerate(activations_indexes):\n",
    "            # score this sample with our model (trimmed to the layer of interest)\n",
    "            nb_filters = weights_array[i].shape[3]\n",
    "            apoz_layer = compute_apoz(model, act_ix, nb_filters, apoz_generator)\n",
    "            #print('APOZ de la capa {}:'.format(i))\n",
    "            #print(apoz_layer)\n",
    "            apoz[i, :nb_filters] = apoz_layer\n",
    "        \n",
    "    return apoz\n",
    "\n",
    "\n",
    "def compute_apoz(model, layer_ix, nb_filters, generator):\n",
    "    \"\"\"Compute Average percentage of zeros over a layers activation maps\"\"\"\n",
    "    act_layer = model.get_layer(index=layer_ix)\n",
    "    node_index = 0\n",
    "    temp_model = Model(model.inputs,\n",
    "                               act_layer.get_output_at(node_index)\n",
    "                              )\n",
    "\n",
    "\n",
    "            # count the percentage of zeros per activation\n",
    "    a = temp_model.predict_generator(generator,944, workers=3, verbose=1)\n",
    "    activations = a.reshape(a.shape[0]*a.shape[1]*a.shape[2],nb_filters).T\n",
    "    apoz_layer = np.sum(activations == 0, axis=1) / activations.shape[1]\n",
    "    \n",
    "    return apoz_layer"
   ]
  },
  {
   "cell_type": "code",
   "execution_count": 12,
   "metadata": {
    "id": "XhppIK899EpC"
   },
   "outputs": [],
   "source": [
    "#function to return pruned filters with apoz method\n",
    "def prune_apoz(model, n_pruned, layer=None):\n",
    "    \"\"\"returns list of indexes of filter to prune or a matrix layer X filter to prune\"\"\"\n",
    "    if layer or layer==0:\n",
    "        apoz = get_filters_apoz(model,layer)\n",
    "        to_prune = np.argsort(apoz)[::-1][:n_pruned]\n",
    "    \n",
    "    else:\n",
    "        apoz = get_filters_apoz(model)\n",
    "        #print(apoz)\n",
    "        #print('-------------')\n",
    "        to_prune = biggest_indices(apoz, n_pruned)\n",
    "        #print('to prune')\n",
    "        #print(to_prune)\n",
    "    \n",
    "    return to_prune\n",
    "\n",
    "#function to return pruned filters with l1 method\n",
    "def prune_l1(model, n_pruned, layer=None):\n",
    "    \"\"\"returns list of indexes of filter to prune or a matrix layer X filter to prune\"\"\"\n",
    "    if layer or layer==0:\n",
    "        norms = get_filters_l1(model,layer)\n",
    "        to_prune = np.argsort(norms)[:n_pruned]\n",
    "    \n",
    "    else:\n",
    "        norms = get_filters_l1(model)\n",
    "        to_prune = smallest_indices(norms, n_pruned)\n",
    "    \n",
    "    return to_prune\n",
    "\n",
    "def prune_random(model, n_pruned, layer=None):\n",
    "    \"\"\"returns list of indexes of filter to prune or a matrix layer X filter to prune\"\"\"\n",
    "    weights = get_filter_weights(model, layer)\n",
    "    if layer or layer==0:\n",
    "        n_filters = weights.shape[3]\n",
    "        to_prune = np.random.choice(range(n_filters), n_pruned, replace=False)\n",
    "    else:\n",
    "        layer_ix = np.random.choice(len(weights))\n",
    "        filters = weights[layer_ix].shape[3]\n",
    "        filter_ix = np.random.choice(range(filters))\n",
    "        to_prune = [[layer_ix, filter_ix]]\n",
    "\n",
    "        for i in range(n_pruned-1):\n",
    "            while [layer_ix, filter_ix] in to_prune :\n",
    "                #choose layer\n",
    "                layer_ix = np.random.choice(len(weights))\n",
    "                #choose filter \n",
    "                filters = weights[layer_ix].shape[3]\n",
    "                filter_ix = np.random.choice(range(filters))\n",
    "            to_prune.append([layer_ix, filter_ix])\n",
    "\n",
    "        to_prune = np.array(to_prune)\n",
    "    return to_prune"
   ]
  },
  {
   "cell_type": "code",
   "execution_count": 13,
   "metadata": {
    "id": "tg74IXvcmKmZ"
   },
   "outputs": [],
   "source": [
    "def compute_pruned_count(model, perc=0.1, layer=None):\n",
    "    if layer or layer ==0:\n",
    "        # count nb of filters\n",
    "        nb_filters = model.layers[layer].output_shape[3]\n",
    "    else:\n",
    "        nb_filters = np.sum([model.layers[i].output_shape[3] for i, layer in enumerate(model.layers) \n",
    "                                                                if 'conv' in model.layers[i].name])\n",
    "            \n",
    "    n_pruned = int(np.floor(perc*nb_filters))\n",
    "    return n_pruned\n",
    "\n",
    "\n",
    "def smallest_indices(array, N):\n",
    "    idx = array.ravel().argsort()[:N]\n",
    "    return np.stack(np.unravel_index(idx, array.shape)).T\n",
    "\n",
    "def biggest_indices(array, N):\n",
    "    idx = array.ravel().argsort()[::-1][:N]\n",
    "    return np.stack(np.unravel_index(idx, array.shape)).T"
   ]
  },
  {
   "cell_type": "code",
   "execution_count": 14,
   "metadata": {
    "id": "DRYFjOF6mMXA"
   },
   "outputs": [],
   "source": [
    "from kerassurgeon.operations import delete_channels, delete_layer\n",
    "from kerassurgeon import Surgeon\n",
    "\n",
    "def prune_one_layer(model, pruned_indexes, layer_ix, opt):\n",
    "    \"\"\"Prunes one layer based on a Keras Model, layer index \n",
    "    and indexes of filters to prune\"\"\"\n",
    "    model_pruned = delete_channels(model, model.layers[layer_ix], pruned_indexes)\n",
    "    model_pruned.compile(loss='categorical_crossentropy',\n",
    "                          optimizer=opt,\n",
    "                          metrics=['accuracy'])\n",
    "    return model_pruned\n",
    "\n",
    "def prune_multiple_layers(model, pruned_matrix, opt):\n",
    "    \"\"\"Prunes several layers based on a Keras Model, layer index and matrix \n",
    "    of indexes of filters to prune\"\"\"\n",
    "    conv_indexes = [i for i, v in enumerate(model.layers) if 'conv' in v.name]\n",
    "    layers_to_prune = np.unique(pruned_matrix[:,0])\n",
    "    surgeon = Surgeon(model, copy=True)\n",
    "    to_prune = pruned_matrix\n",
    "    to_prune[:,0] = np.array([conv_indexes[i] for i in to_prune[:,0]])\n",
    "    layers_to_prune = np.unique(to_prune[:,0])\n",
    "    for layer_ix in layers_to_prune :\n",
    "        pruned_filters = [x[1] for x in to_prune if x[0]==layer_ix]\n",
    "        print('filtros a podar:')\n",
    "        print(pruned_filters)\n",
    "        pruned_layer = model.layers[layer_ix]\n",
    "        print('capa a podar:')\n",
    "        print(pruned_layer)\n",
    "        surgeon.add_job('delete_channels', pruned_layer, channels=pruned_filters)\n",
    "    \n",
    "    model_pruned = surgeon.operate()\n",
    "    model_pruned.compile(loss='categorical_crossentropy',\n",
    "              optimizer=opt,\n",
    "              metrics=['accuracy'])\n",
    "    \n",
    "    return model_pruned"
   ]
  },
  {
   "cell_type": "code",
   "execution_count": 15,
   "metadata": {
    "id": "QngxSqW3mOXi"
   },
   "outputs": [],
   "source": [
    "def prune_model(model, perc, opt, method='l1', layer=None):\n",
    "    \"\"\"Prune a Keras model using different methods\n",
    "    Arguments:\n",
    "        model: Keras Model object\n",
    "        perc: a float between 0 and 1\n",
    "        method: method to prune, can be one of ['l1','apoz','random']\n",
    "    Returns:\n",
    "        A pruned Keras Model object\n",
    "    \n",
    "    \"\"\"\n",
    "    assert method in ['l1','apoz','random'], \"Invalid pruning method\"\n",
    "    assert perc >=0 and perc <1, \"Invalid pruning percentage\"\n",
    "    \n",
    "    \n",
    "    n_pruned = compute_pruned_count(model, perc, layer)\n",
    "    \n",
    "    if method =='l1':\n",
    "        to_prune = prune_l1(model, n_pruned, layer)    \n",
    "    if method =='apoz':\n",
    "        to_prune = prune_apoz(model, n_pruned, layer)\n",
    "    if method =='random':\n",
    "        to_prune = prune_random(model, n_pruned, layer)    \n",
    "    if layer or layer ==0:\n",
    "        model_pruned = prune_one_layer(model, to_prune, layer, opt)\n",
    "    else:\n",
    "        model_pruned = prune_multiple_layers(model, to_prune, opt)\n",
    "            \n",
    "    return model_pruned"
   ]
  },
  {
   "cell_type": "code",
   "execution_count": 16,
   "metadata": {
    "colab": {
     "base_uri": "https://localhost:8080/"
    },
    "id": "hqnPEc4amQu2",
    "outputId": "7acae651-8407-4ed0-ca1c-c0c06ff6140c"
   },
   "outputs": [
    {
     "name": "stdout",
     "output_type": "stream",
     "text": [
      "filtros a podar:\n",
      "[39, 21, 63, 19, 8, 20, 2, 61, 0, 28, 50, 45, 31, 25, 24, 34, 33, 42, 43, 3, 27, 52, 10, 57, 4, 54, 17, 35, 55, 40, 38, 11, 60, 7, 56, 30, 13, 22, 49, 44, 15, 18, 1, 14, 32]\n",
      "capa a podar:\n",
      "<tensorflow.python.keras.layers.convolutional.Conv2D object at 0x7efd8c6b96a0>\n",
      "filtros a podar:\n",
      "[1, 29, 52, 61, 17, 12, 21, 19, 49, 27, 25, 33, 37, 59, 46, 18, 36, 16, 5, 54, 8, 42, 39, 55, 34, 57, 0, 30, 10, 31, 24, 35, 22, 38, 40, 26, 41, 48, 60, 3, 13, 47, 11, 28, 23, 32, 53]\n",
      "capa a podar:\n",
      "<tensorflow.python.keras.layers.convolutional.Conv2D object at 0x7efc8c51cd30>\n",
      "filtros a podar:\n",
      "[14, 29, 81, 91, 107, 69, 89, 38, 114, 127, 9, 101, 60, 25, 99, 67, 98, 53, 83, 45, 12, 17, 104, 70, 40, 43, 116, 27, 126, 90, 57, 100, 15, 84, 36, 4, 26, 108, 96, 47, 87, 86, 120, 63, 0, 122, 20, 52, 124, 80, 5, 76, 54, 94, 85, 71, 32, 37, 88, 77, 61]\n",
      "capa a podar:\n",
      "<tensorflow.python.keras.layers.convolutional.Conv2D object at 0x7efce609ecf8>\n",
      "filtros a podar:\n",
      "[19, 115, 6, 106, 85, 38, 108, 99, 91, 110, 45, 51, 102, 69, 105, 83, 67, 32, 0, 80, 77, 14, 60, 61, 123, 18, 21, 76, 116, 113, 121, 15, 104, 59, 4, 11, 89, 62, 48, 36, 44, 28, 82, 64, 17, 31, 68, 1, 50, 78, 56, 52, 9, 26, 35, 55, 101, 23, 124, 95, 126, 70, 125]\n",
      "capa a podar:\n",
      "<tensorflow.python.keras.layers.convolutional.Conv2D object at 0x7efc8c4c2048>\n",
      "filtros a podar:\n",
      "[102, 136, 221, 203, 103, 139, 83, 16, 93, 191, 220, 75, 176, 211, 209, 180, 231, 18, 212, 116, 72, 129, 60, 88, 45, 163, 84, 200, 193, 28, 41, 131, 160, 199, 151, 202, 175, 197, 106, 158, 186, 1, 164, 253, 40, 105, 25, 167, 99, 173, 121, 168, 146, 91, 204, 30, 12, 192, 195, 61, 70, 234, 111, 51, 149, 43, 34]\n",
      "capa a podar:\n",
      "<tensorflow.python.keras.layers.convolutional.Conv2D object at 0x7efc8c47df60>\n",
      "filtros a podar:\n",
      "[132, 111, 108, 137, 198, 70, 62, 213, 4, 230, 138, 125, 93, 72, 109, 145, 235, 156, 181, 124, 238, 155, 173, 152, 202, 52, 5, 182, 129, 115, 236, 113, 106, 192, 13, 14, 61, 26, 104, 215, 21, 36, 189, 121, 179, 0, 80, 157, 27, 233, 136, 2, 25, 17, 130, 158, 200, 53, 164, 50, 161, 99, 28, 18, 69, 81, 16, 112, 206, 135, 94, 231]\n",
      "capa a podar:\n",
      "<tensorflow.python.keras.layers.convolutional.Conv2D object at 0x7efc8c48ab70>\n",
      "filtros a podar:\n",
      "[235, 121, 0, 120, 66, 171, 25, 141, 76, 254, 30, 24, 49, 37, 124, 128, 79, 50, 180, 57, 26, 219, 44, 149, 188, 104, 81, 58, 23, 212, 160, 237, 73, 129, 194, 68, 200, 255, 147, 175, 154, 96, 152, 140, 181, 211, 138, 107, 119, 62, 168, 103, 122, 41, 198, 83, 22, 13, 190, 215, 4, 238, 164, 142, 54, 48, 193]\n",
      "capa a podar:\n",
      "<tensorflow.python.keras.layers.convolutional.Conv2D object at 0x7efc8c43c400>\n",
      "filtros a podar:\n",
      "[290, 155, 23, 83, 214, 460, 450, 170, 175, 295, 103, 49, 343, 270, 494, 474, 142, 445, 216, 183, 323, 447, 74, 344, 12, 365, 288, 197, 335, 444, 259, 389, 438, 215, 502, 508, 206, 330, 51, 222, 332, 6, 68, 191, 234, 399, 412, 380, 276, 180, 3, 363, 307, 81, 453, 84, 61, 257, 347, 367, 468, 421, 427, 327, 436, 271, 391, 130, 15]\n",
      "capa a podar:\n",
      "<tensorflow.python.keras.layers.convolutional.Conv2D object at 0x7efc8c3fd780>\n",
      "filtros a podar:\n",
      "[506, 168, 462, 408, 212, 505, 143, 490, 481, 295, 422, 38, 118, 176, 97, 398, 93, 373, 316, 9, 240, 205, 147, 73, 429, 389, 399, 374, 76, 281, 350, 417, 102, 260, 489, 50, 45, 329, 203, 447, 89, 103, 354, 141, 358, 74, 31, 46, 321, 361, 131, 123, 352, 186, 39, 414, 8, 53, 487, 301, 335, 267, 327, 246]\n",
      "capa a podar:\n",
      "<tensorflow.python.keras.layers.convolutional.Conv2D object at 0x7efc8c415048>\n",
      "filtros a podar:\n",
      "[383, 139, 340, 181, 190, 96, 195, 278, 0, 464, 272, 187, 368, 390, 286, 481, 135, 420, 371, 104, 260, 33, 245, 430, 85, 107, 129, 71, 26, 370, 301, 125, 296, 480, 426, 439, 396, 318, 352, 437, 86, 79, 184, 173, 81, 468, 497, 443, 477, 358, 84, 116, 290, 4, 485, 476, 377, 323, 99, 218, 54, 373, 500, 270, 303, 224, 338, 145, 242, 388, 357, 405, 162, 461, 247, 213, 474, 465, 61, 124, 6]\n",
      "capa a podar:\n",
      "<tensorflow.python.keras.layers.convolutional.Conv2D object at 0x7efc8c3cfef0>\n",
      "filtros a podar:\n",
      "[279, 249, 225, 70, 247, 501, 343, 348, 109, 110, 453, 421, 165, 448, 374, 416, 79, 72, 189, 139, 190, 29, 95, 370, 244, 100, 455, 335, 268, 316, 203, 73, 467, 8, 387, 218, 228, 489, 428, 282, 81, 367, 89, 479, 20, 354, 301, 56, 418, 476, 496, 222, 216, 449, 406, 236, 235, 5, 419, 41, 204, 427, 116, 355, 368, 47]\n",
      "capa a podar:\n",
      "<tensorflow.python.keras.layers.convolutional.Conv2D object at 0x7efc8c37abe0>\n",
      "filtros a podar:\n",
      "[84, 477, 443, 423, 165, 326, 259, 62, 446, 251, 316, 236, 330, 280, 431, 182, 282, 329, 106, 74, 291, 493, 96, 2, 309, 501, 379, 298, 335, 319, 505, 289, 170, 370, 336, 178, 166, 176, 144, 383, 79, 20, 192, 245, 135, 52, 111, 325, 241, 227, 410, 318, 346, 49, 215, 434, 228, 344, 498, 356, 303, 328, 203, 349, 300, 185, 37, 269, 31, 177, 93, 39, 174]\n",
      "capa a podar:\n",
      "<tensorflow.python.keras.layers.convolutional.Conv2D object at 0x7efc8c393470>\n",
      "filtros a podar:\n",
      "[448, 45, 48, 96, 156, 24, 10, 330, 38, 435, 443, 457, 9, 500, 210, 121, 233, 420, 438, 493, 98, 397, 205, 305, 211, 140, 350, 367, 65, 378, 270, 456, 483, 227, 263, 174, 209, 116, 334, 471, 416, 146, 177, 358, 306, 437, 42, 333, 453, 172, 274, 351, 468, 408, 337, 240, 301, 499, 128, 458, 242, 346, 267, 363, 1, 237, 300, 417, 244]\n",
      "capa a podar:\n",
      "<tensorflow.python.keras.layers.convolutional.Conv2D object at 0x7efc8c33dc88>\n",
      "Deleting 45/64 channels from layer: conv2d\n",
      "Deleting 47/64 channels from layer: conv2d_1\n",
      "Deleting 61/128 channels from layer: conv2d_2\n",
      "Deleting 63/128 channels from layer: conv2d_3\n",
      "Deleting 67/256 channels from layer: conv2d_4\n",
      "Deleting 72/256 channels from layer: conv2d_5\n",
      "Deleting 67/256 channels from layer: conv2d_6\n",
      "Deleting 69/512 channels from layer: conv2d_7\n",
      "Deleting 64/512 channels from layer: conv2d_8\n",
      "Deleting 81/512 channels from layer: conv2d_9\n",
      "Deleting 66/512 channels from layer: conv2d_10\n",
      "Deleting 73/512 channels from layer: conv2d_11\n",
      "Deleting 69/512 channels from layer: conv2d_12\n",
      "Model: \"functional_1\"\n",
      "_________________________________________________________________\n",
      "Layer (type)                 Output Shape              Param #   \n",
      "=================================================================\n",
      "conv2d_input (InputLayer)    [(None, 32, 32, 3)]       0         \n",
      "_________________________________________________________________\n",
      "conv2d (Conv2D)              (None, 32, 32, 19)        532       \n",
      "_________________________________________________________________\n",
      "activation (Activation)      (None, 32, 32, 19)        0         \n",
      "_________________________________________________________________\n",
      "batch_normalization (BatchNo (None, 32, 32, 19)        76        \n",
      "_________________________________________________________________\n",
      "dropout (Dropout)            (None, 32, 32, 19)        0         \n",
      "_________________________________________________________________\n",
      "conv2d_1 (Conv2D)            (None, 32, 32, 17)        2924      \n",
      "_________________________________________________________________\n",
      "activation_1 (Activation)    (None, 32, 32, 17)        0         \n",
      "_________________________________________________________________\n",
      "batch_normalization_1 (Batch (None, 32, 32, 17)        68        \n",
      "_________________________________________________________________\n",
      "max_pooling2d (MaxPooling2D) (None, 16, 16, 17)        0         \n",
      "_________________________________________________________________\n",
      "conv2d_2 (Conv2D)            (None, 16, 16, 67)        10318     \n",
      "_________________________________________________________________\n",
      "activation_2 (Activation)    (None, 16, 16, 67)        0         \n",
      "_________________________________________________________________\n",
      "batch_normalization_2 (Batch (None, 16, 16, 67)        268       \n",
      "_________________________________________________________________\n",
      "dropout_1 (Dropout)          (None, 16, 16, 67)        0         \n",
      "_________________________________________________________________\n",
      "conv2d_3 (Conv2D)            (None, 16, 16, 65)        39260     \n",
      "_________________________________________________________________\n",
      "activation_3 (Activation)    (None, 16, 16, 65)        0         \n",
      "_________________________________________________________________\n",
      "batch_normalization_3 (Batch (None, 16, 16, 65)        260       \n",
      "_________________________________________________________________\n",
      "max_pooling2d_1 (MaxPooling2 (None, 8, 8, 65)          0         \n",
      "_________________________________________________________________\n",
      "conv2d_4 (Conv2D)            (None, 8, 8, 189)         110754    \n",
      "_________________________________________________________________\n",
      "activation_4 (Activation)    (None, 8, 8, 189)         0         \n",
      "_________________________________________________________________\n",
      "batch_normalization_4 (Batch (None, 8, 8, 189)         756       \n",
      "_________________________________________________________________\n",
      "dropout_2 (Dropout)          (None, 8, 8, 189)         0         \n",
      "_________________________________________________________________\n",
      "conv2d_5 (Conv2D)            (None, 8, 8, 184)         313168    \n",
      "_________________________________________________________________\n",
      "activation_5 (Activation)    (None, 8, 8, 184)         0         \n",
      "_________________________________________________________________\n",
      "batch_normalization_5 (Batch (None, 8, 8, 184)         736       \n",
      "_________________________________________________________________\n",
      "dropout_3 (Dropout)          (None, 8, 8, 184)         0         \n",
      "_________________________________________________________________\n",
      "conv2d_6 (Conv2D)            (None, 8, 8, 189)         313173    \n",
      "_________________________________________________________________\n",
      "activation_6 (Activation)    (None, 8, 8, 189)         0         \n",
      "_________________________________________________________________\n",
      "batch_normalization_6 (Batch (None, 8, 8, 189)         756       \n",
      "_________________________________________________________________\n",
      "max_pooling2d_2 (MaxPooling2 (None, 4, 4, 189)         0         \n",
      "_________________________________________________________________\n",
      "conv2d_7 (Conv2D)            (None, 4, 4, 443)         753986    \n",
      "_________________________________________________________________\n",
      "activation_7 (Activation)    (None, 4, 4, 443)         0         \n",
      "_________________________________________________________________\n",
      "batch_normalization_7 (Batch (None, 4, 4, 443)         1772      \n",
      "_________________________________________________________________\n",
      "dropout_4 (Dropout)          (None, 4, 4, 443)         0         \n",
      "_________________________________________________________________\n",
      "conv2d_8 (Conv2D)            (None, 4, 4, 448)         1786624   \n",
      "_________________________________________________________________\n",
      "activation_8 (Activation)    (None, 4, 4, 448)         0         \n",
      "_________________________________________________________________\n",
      "batch_normalization_8 (Batch (None, 4, 4, 448)         1792      \n",
      "_________________________________________________________________\n",
      "dropout_5 (Dropout)          (None, 4, 4, 448)         0         \n",
      "_________________________________________________________________\n",
      "conv2d_9 (Conv2D)            (None, 4, 4, 431)         1738223   \n",
      "_________________________________________________________________\n",
      "activation_9 (Activation)    (None, 4, 4, 431)         0         \n",
      "_________________________________________________________________\n",
      "batch_normalization_9 (Batch (None, 4, 4, 431)         1724      \n",
      "_________________________________________________________________\n",
      "max_pooling2d_3 (MaxPooling2 (None, 2, 2, 431)         0         \n",
      "_________________________________________________________________\n",
      "conv2d_10 (Conv2D)           (None, 2, 2, 446)         1730480   \n",
      "_________________________________________________________________\n",
      "activation_10 (Activation)   (None, 2, 2, 446)         0         \n",
      "_________________________________________________________________\n",
      "batch_normalization_10 (Batc (None, 2, 2, 446)         1784      \n",
      "_________________________________________________________________\n",
      "dropout_6 (Dropout)          (None, 2, 2, 446)         0         \n",
      "_________________________________________________________________\n",
      "conv2d_11 (Conv2D)           (None, 2, 2, 439)         1762585   \n",
      "_________________________________________________________________\n",
      "activation_11 (Activation)   (None, 2, 2, 439)         0         \n",
      "_________________________________________________________________\n",
      "batch_normalization_11 (Batc (None, 2, 2, 439)         1756      \n",
      "_________________________________________________________________\n",
      "dropout_7 (Dropout)          (None, 2, 2, 439)         0         \n",
      "_________________________________________________________________\n",
      "conv2d_12 (Conv2D)           (None, 2, 2, 443)         1750736   \n",
      "_________________________________________________________________\n",
      "activation_12 (Activation)   (None, 2, 2, 443)         0         \n",
      "_________________________________________________________________\n",
      "batch_normalization_12 (Batc (None, 2, 2, 443)         1772      \n",
      "_________________________________________________________________\n",
      "max_pooling2d_4 (MaxPooling2 (None, 1, 1, 443)         0         \n",
      "_________________________________________________________________\n",
      "dropout_8 (Dropout)          (None, 1, 1, 443)         0         \n",
      "_________________________________________________________________\n",
      "flatten (Flatten)            (None, 443)               0         \n",
      "_________________________________________________________________\n",
      "dense (Dense)                (None, 512)               227328    \n",
      "_________________________________________________________________\n",
      "activation_13 (Activation)   (None, 512)               0         \n",
      "_________________________________________________________________\n",
      "batch_normalization_13 (Batc (None, 512)               2048      \n",
      "_________________________________________________________________\n",
      "dropout_9 (Dropout)          (None, 512)               0         \n",
      "_________________________________________________________________\n",
      "dense_1 (Dense)              (None, 10)                5130      \n",
      "_________________________________________________________________\n",
      "activation_14 (Activation)   (None, 10)                0         \n",
      "=================================================================\n",
      "Total params: 10,560,789\n",
      "Trainable params: 10,553,005\n",
      "Non-trainable params: 7,784\n",
      "_________________________________________________________________\n"
     ]
    }
   ],
   "source": [
    "# Podar modelo\n",
    "model_pruned = prune_model(vgg16, PERCENT, adam, method=METHOD)\n",
    "model_pruned.summary()"
   ]
  },
  {
   "cell_type": "code",
   "execution_count": 17,
   "metadata": {},
   "outputs": [
    {
     "name": "stdout",
     "output_type": "stream",
     "text": [
      "391/391 [==============================] - 286s 731ms/step - loss: 1.8663 - accuracy: 0.5491 - val_loss: 2.2746 - val_accuracy: 0.4750\n"
     ]
    }
   ],
   "source": [
    "# Fine tune\n",
    "history = model_pruned.fit(x_train, y_train_oh, epochs=epochs, batch_size=batch_size,\n",
    "                        validation_data=(x_test, y_test_oh))"
   ]
  },
  {
   "cell_type": "code",
   "execution_count": 18,
   "metadata": {
    "id": "zHvxB8gIGmSm"
   },
   "outputs": [],
   "source": [
    "# Guardar a disco modelo de Keras en formato h5 y h5py\n",
    "model_pruned.save('vgg16KerasPruned.h5')"
   ]
  },
  {
   "cell_type": "code",
   "execution_count": 19,
   "metadata": {},
   "outputs": [
    {
     "name": "stdout",
     "output_type": "stream",
     "text": [
      "WARNING:tensorflow:From /home/lucas/tfg-env/lib/python3.6/site-packages/tensorflow/python/training/tracking/tracking.py:111: Model.state_updates (from tensorflow.python.keras.engine.training) is deprecated and will be removed in a future version.\n",
      "Instructions for updating:\n",
      "This property should not be used in TensorFlow 2.0, as updates are applied automatically.\n"
     ]
    },
    {
     "name": "stderr",
     "output_type": "stream",
     "text": [
      "WARNING:tensorflow:From /home/lucas/tfg-env/lib/python3.6/site-packages/tensorflow/python/training/tracking/tracking.py:111: Model.state_updates (from tensorflow.python.keras.engine.training) is deprecated and will be removed in a future version.\n",
      "Instructions for updating:\n",
      "This property should not be used in TensorFlow 2.0, as updates are applied automatically.\n"
     ]
    },
    {
     "name": "stdout",
     "output_type": "stream",
     "text": [
      "WARNING:tensorflow:From /home/lucas/tfg-env/lib/python3.6/site-packages/tensorflow/python/training/tracking/tracking.py:111: Layer.updates (from tensorflow.python.keras.engine.base_layer) is deprecated and will be removed in a future version.\n",
      "Instructions for updating:\n",
      "This property should not be used in TensorFlow 2.0, as updates are applied automatically.\n"
     ]
    },
    {
     "name": "stderr",
     "output_type": "stream",
     "text": [
      "WARNING:tensorflow:From /home/lucas/tfg-env/lib/python3.6/site-packages/tensorflow/python/training/tracking/tracking.py:111: Layer.updates (from tensorflow.python.keras.engine.base_layer) is deprecated and will be removed in a future version.\n",
      "Instructions for updating:\n",
      "This property should not be used in TensorFlow 2.0, as updates are applied automatically.\n"
     ]
    },
    {
     "name": "stdout",
     "output_type": "stream",
     "text": [
      "INFO:tensorflow:Assets written to: /tmp/tmpeky0k2cj/assets\n"
     ]
    },
    {
     "name": "stderr",
     "output_type": "stream",
     "text": [
      "INFO:tensorflow:Assets written to: /tmp/tmpeky0k2cj/assets\n"
     ]
    },
    {
     "name": "stdout",
     "output_type": "stream",
     "text": [
      "INFO:tensorflow:Assets written to: /tmp/tmpujirme6u/assets\n"
     ]
    },
    {
     "name": "stderr",
     "output_type": "stream",
     "text": [
      "INFO:tensorflow:Assets written to: /tmp/tmpujirme6u/assets\n"
     ]
    },
    {
     "data": {
      "text/plain": [
       "10608752"
      ]
     },
     "execution_count": 19,
     "metadata": {},
     "output_type": "execute_result"
    }
   ],
   "source": [
    "# Convertir a Tensorflow Lite sin Cuantización\n",
    "converter = tf.lite.TFLiteConverter.from_keras_model(model_pruned)\n",
    "tflite_model = converter.convert()\n",
    "# Guardar a disco\n",
    "open(\"vgg16TFLitePruned.tflite\", \"wb\").write(tflite_model)\n",
    "\n",
    "# Convertir a Tensorflow Lite con Cuantización de rango dinámico\n",
    "def representative_dataset():\n",
    "    for i in range(100):\n",
    "      x_test_rd = np.expand_dims(x_test, -1)  \n",
    "      yield [x_test_rd[i].astype(np.float32)]\n",
    "\n",
    "converter_q = tf.lite.TFLiteConverter.from_keras_model(model_pruned)\n",
    "converter_q.optimizations = [tf.lite.Optimize.DEFAULT]\n",
    "tflite_quant_model = converter_q.convert()\n",
    "# Guardar a disco\n",
    "open(\"vgg16TFLitePrunedQuant.tflite\", \"wb\").write(tflite_quant_model)"
   ]
  },
  {
   "cell_type": "code",
   "execution_count": 20,
   "metadata": {},
   "outputs": [
    {
     "data": {
      "text/plain": [
       "'\\nPARTE DE COMPARACIÓN DE TAMAÑOS\\n'"
      ]
     },
     "execution_count": 20,
     "metadata": {},
     "output_type": "execute_result"
    }
   ],
   "source": [
    "\"\"\"\n",
    "PARTE DE COMPARACIÓN DE TAMAÑOS\n",
    "\"\"\""
   ]
  },
  {
   "cell_type": "code",
   "execution_count": 21,
   "metadata": {},
   "outputs": [],
   "source": [
    "def get_gzipped_model_size(file):\n",
    "  # Returns size of gzipped model, in bytes.\n",
    "  import os\n",
    "  import zipfile\n",
    "\n",
    "  _, zipped_file = tempfile.mkstemp('.zip')\n",
    "  with zipfile.ZipFile(zipped_file, 'w', compression=zipfile.ZIP_DEFLATED) as f:\n",
    "    f.write(file)\n",
    "\n",
    "  return os.path.getsize(zipped_file)\n"
   ]
  },
  {
   "cell_type": "code",
   "execution_count": 22,
   "metadata": {},
   "outputs": [
    {
     "name": "stdout",
     "output_type": "stream",
     "text": [
      "El tamaño del modelo comprimido en Keras es 55639960.00 bytes\n",
      "------------------------------------------------------\n",
      "El tamaño del modelo comprimido en Keras PODADO es 39185787.00 bytes\n",
      "------------------------------------------------------\n",
      "El tamaño del modelo comprimido PODADO y en TFlite sin cuantizar es 39145640.00 bytes\n",
      "------------------------------------------------------\n",
      "El tamaño del modelo comprimido PODADO y en TFlite CUANTIZADO es 8387045.00 bytes\n"
     ]
    }
   ],
   "source": [
    "# Comparación de tamaños\n",
    "print(\"El tamaño del modelo comprimido en Keras es %.2f bytes\" % get_gzipped_model_size('../../models/VGG16_model/vgg16Keras.h5'))\n",
    "print(\"------------------------------------------------------\")\n",
    "print(\"El tamaño del modelo comprimido en Keras PODADO es %.2f bytes\" % get_gzipped_model_size('vgg16KerasPruned.h5'))\n",
    "print(\"------------------------------------------------------\")\n",
    "print(\"El tamaño del modelo comprimido PODADO y en TFlite sin cuantizar es %.2f bytes\" % get_gzipped_model_size('vgg16TFLitePruned.tflite'))\n",
    "print(\"------------------------------------------------------\")\n",
    "print(\"El tamaño del modelo comprimido PODADO y en TFlite CUANTIZADO es %.2f bytes\" % get_gzipped_model_size('vgg16TFLitePrunedQuant.tflite'))"
   ]
  },
  {
   "cell_type": "code",
   "execution_count": 23,
   "metadata": {},
   "outputs": [
    {
     "data": {
      "text/plain": [
       "'\\nPARTE DE COMPARACIÓN DE PRECISIÓN Y TOMA DE TIEMPOS\\n'"
      ]
     },
     "execution_count": 23,
     "metadata": {},
     "output_type": "execute_result"
    }
   ],
   "source": [
    "\"\"\"\n",
    "PARTE DE COMPARACIÓN DE PRECISIÓN Y TOMA DE TIEMPOS\n",
    "\"\"\""
   ]
  },
  {
   "cell_type": "code",
   "execution_count": 24,
   "metadata": {},
   "outputs": [
    {
     "name": "stdout",
     "output_type": "stream",
     "text": [
      "313/313 [==============================] - 19s 62ms/step - loss: 1.3671 - accuracy: 0.8075\n",
      "\n",
      "accuracy: 80.75%\n"
     ]
    }
   ],
   "source": [
    "import time\n",
    "import statistics\n",
    "\n",
    "# Probaremos la precisión del modelo de Keras sin podar\n",
    "scores = vgg16.evaluate(x_test, y_test_oh)\n",
    "print(\"\\n%s: %.2f%%\" % (vgg16.metrics_names[1], scores[1]*100))"
   ]
  },
  {
   "cell_type": "code",
   "execution_count": 25,
   "metadata": {},
   "outputs": [],
   "source": [
    "def predict_tflite(tflite_model, x_test, y_true, quantized):\n",
    "\n",
    "    #lista de tiempos \n",
    "    times=[]\n",
    "\n",
    "    # Preparar el cjto de test\n",
    "    x_test_ = x_test.copy()\n",
    "    x_test_ = x_test_.astype(np.float32)\n",
    "\n",
    "    if(quantized):\n",
    "        # Instanciar un intérprete de Tensorflow lite\n",
    "        VGG_quantized_interpreter = tf.lite.Interpreter('vgg16TFLitePrunedQuant.tflite')\n",
    "\n",
    "        # Reservar memoria para el modelo\n",
    "        VGG_quantized_interpreter.allocate_tensors()\n",
    "\n",
    "        # Tensores de entrada y salida\n",
    "        input_details_quantized = VGG_quantized_interpreter.get_input_details()[0]\n",
    "        output_details_quantized = VGG_quantized_interpreter.get_output_details()[0]\n",
    "\n",
    "        # Arrays para almacenar resultados\n",
    "        y_pred_quantized = np.empty([x_test_.shape[0], 10], dtype=output_details_quantized[\"dtype\"])\n",
    "\n",
    "        # Para cada elemento del conjunto de test ...\n",
    "        for i in range(len(x_test_)):\n",
    "            # Escribimos el tensor en la input de la red neuronal\n",
    "            VGG_quantized_interpreter.set_tensor(input_details_quantized[\"index\"], [x_test_[i]])\n",
    "            # Invocamos al intérprete\n",
    "            init = time.time() # Comenzamos a medir el tiempo\n",
    "            VGG_quantized_interpreter.invoke()\n",
    "            end = time.time() # Acabamos\n",
    "            times.append(end - init) # Elapsed time\n",
    "            # Guardamos la salida \n",
    "            y_pred_quantized[i,:] = to_categorical(VGG_quantized_interpreter.get_tensor(output_details_quantized[\"index\"])[0].argmax(), 10)\n",
    "        \n",
    "        # Media de los tiempos de predicción en segs\n",
    "        print(\"Media de los tiempos de ejecución con cuantización: \" + str(statistics.mean(times)) + \"segs\")\n",
    "        accuracy_score = sklearn.metrics.accuracy_score(y_true, y_pred_quantized)\n",
    "        print(\"Accuracy score:\", accuracy_score)\n",
    "        #print(y_pred)\n",
    "        \n",
    "        return accuracy_score\n",
    "\n",
    "    else:\n",
    "        # Instanciar un intérprete de Tensorflow lite\n",
    "        VGG_interpreter = tf.lite.Interpreter('vgg16TFLitePruned.tflite')\n",
    "\n",
    "        # Reservar memoria para el modelo\n",
    "        VGG_interpreter.allocate_tensors()\n",
    "\n",
    "        # Tensores de entrada y salida\n",
    "        input_details = VGG_interpreter.get_input_details()[0]\n",
    "        output_details = VGG_interpreter.get_output_details()[0]\n",
    "\n",
    "        # Arrays para almacenar resultados\n",
    "        y_pred = np.empty([x_test_.shape[0], 10], dtype=output_details[\"dtype\"])\n",
    "\n",
    "        # Para cada elemento del conjunto de test ...\n",
    "        for i in range(len(x_test_)):\n",
    "            # Escribimos el tensor en la input de la red neuronal\n",
    "            VGG_interpreter.set_tensor(input_details[\"index\"], [x_test_[i]])\n",
    "            # Invocamos al intérprete\n",
    "            init = time.time() # Comenzamos a medir el tiempo\n",
    "            VGG_interpreter.invoke()\n",
    "            end = time.time() # Acabamos\n",
    "            times.append(end - init) # Elapsed time\n",
    "            # Guardamos la salida \n",
    "            y_pred[i,:] = to_categorical(VGG_interpreter.get_tensor(output_details[\"index\"])[0].argmax(), 10)\n",
    "            \n",
    "        # Media de los tiempos de predicción en segs\n",
    "        print(\"Media de los tiempos de ejecución sin cuantización: \" + str(statistics.mean(times)) + \"segs\")\n",
    "        # Cálculo de la precisión\n",
    "        accuracy_score = sklearn.metrics.accuracy_score(y_true, y_pred)\n",
    "        print(\"Accuracy score:\", accuracy_score)\n",
    "        #print(y_pred)\n",
    "        \n",
    "        return accuracy_score"
   ]
  },
  {
   "cell_type": "code",
   "execution_count": 26,
   "metadata": {},
   "outputs": [
    {
     "name": "stdout",
     "output_type": "stream",
     "text": [
      "10000/10000 [==============================] - 169s 17ms/step - loss: 1.3671 - accuracy: 0.8075\n",
      "10000/10000 [==============================] - 132s 13ms/step - loss: 2.2746 - accuracy: 0.4750\n",
      "Media de los tiempos de ejecución sin cuantización: 0.011075685906410218segs\n",
      "Accuracy score: 0.475\n",
      "Media de los tiempos de ejecución con cuantización: 0.007966475939750672segs\n",
      "Accuracy score: 0.4721\n"
     ]
    }
   ],
   "source": [
    "# Comparación de precisión\n",
    "_ , accuracy_tf = vgg16.evaluate(x_test, y_test_oh, batch_size=1, verbose=1)\n",
    "_ ,accuracy_tfpruned = model_pruned.evaluate(x_test, y_test_oh, batch_size=1, verbose=1)\n",
    "accuracy_no_quant_tflite = predict_tflite(tflite_model, x_test, y_test_oh, False)\n",
    "accuracy_quant_tflite = predict_tflite(tflite_quant_model, x_test, y_test_oh, True)"
   ]
  },
  {
   "cell_type": "code",
   "execution_count": 27,
   "metadata": {},
   "outputs": [
    {
     "data": {
      "text/html": [
       "<div>\n",
       "<style scoped>\n",
       "    .dataframe tbody tr th:only-of-type {\n",
       "        vertical-align: middle;\n",
       "    }\n",
       "\n",
       "    .dataframe tbody tr th {\n",
       "        vertical-align: top;\n",
       "    }\n",
       "\n",
       "    .dataframe thead th {\n",
       "        text-align: right;\n",
       "    }\n",
       "</style>\n",
       "<table border=\"1\" class=\"dataframe\">\n",
       "  <thead>\n",
       "    <tr style=\"text-align: right;\">\n",
       "      <th></th>\n",
       "      <th>Accuracy</th>\n",
       "    </tr>\n",
       "    <tr>\n",
       "      <th>Model</th>\n",
       "      <th></th>\n",
       "    </tr>\n",
       "  </thead>\n",
       "  <tbody>\n",
       "    <tr>\n",
       "      <th>Keras</th>\n",
       "      <td>0.8075</td>\n",
       "    </tr>\n",
       "    <tr>\n",
       "      <th>Keras podado</th>\n",
       "      <td>0.4750</td>\n",
       "    </tr>\n",
       "    <tr>\n",
       "      <th>TensorFlow Lite no Cuant.</th>\n",
       "      <td>0.4750</td>\n",
       "    </tr>\n",
       "    <tr>\n",
       "      <th>TensorFlow Lite Cuant.</th>\n",
       "      <td>0.4721</td>\n",
       "    </tr>\n",
       "  </tbody>\n",
       "</table>\n",
       "</div>"
      ],
      "text/plain": [
       "                           Accuracy\n",
       "Model                              \n",
       "Keras                        0.8075\n",
       "Keras podado                 0.4750\n",
       "TensorFlow Lite no Cuant.    0.4750\n",
       "TensorFlow Lite Cuant.       0.4721"
      ]
     },
     "execution_count": 27,
     "metadata": {},
     "output_type": "execute_result"
    }
   ],
   "source": [
    "df = pd.DataFrame.from_records(\n",
    "    [[\"Keras\", accuracy_tf],\n",
    "     [\"Keras podado\", accuracy_tfpruned],\n",
    "     [\"TensorFlow Lite no Cuant.\", accuracy_no_quant_tflite],\n",
    "     [\"TensorFlow Lite Cuant.\", accuracy_quant_tflite]],\n",
    "     columns = [\"Model\", \"Accuracy\"], index=\"Model\")\n",
    "df"
   ]
  },
  {
   "cell_type": "code",
   "execution_count": null,
   "metadata": {},
   "outputs": [],
   "source": []
  }
 ],
 "metadata": {
  "colab": {
   "collapsed_sections": [],
   "name": "Untitled0.ipynb",
   "provenance": []
  },
  "kernelspec": {
   "display_name": "Python 3",
   "language": "python",
   "name": "python3"
  },
  "language_info": {
   "codemirror_mode": {
    "name": "ipython",
    "version": 3
   },
   "file_extension": ".py",
   "mimetype": "text/x-python",
   "name": "python",
   "nbconvert_exporter": "python",
   "pygments_lexer": "ipython3",
   "version": "3.6.9"
  },
  "metadata": {
   "interpreter": {
    "hash": "15dad678111f4055199e27812f8fd807e7e8880170b4c46fb7d59063d2f6dd63"
   }
  }
 },
 "nbformat": 4,
 "nbformat_minor": 1
}
