{
 "cells": [
  {
   "cell_type": "code",
   "execution_count": 1,
   "metadata": {
    "colab": {
     "base_uri": "https://localhost:8080/"
    },
    "id": "TikwhxGwlqu7",
    "outputId": "fbf50959-f6ab-4470-9f9b-80b797d68a9a"
   },
   "outputs": [],
   "source": [
    "# Dependencias\n",
    "import os\n",
    "import math\n",
    "import tempfile\n",
    "import tensorflow as tf \n",
    "import numpy as np \n",
    "import pandas as pd\n",
    "import sklearn.metrics\n",
    "import matplotlib.pyplot as plt \n",
    "import tensorflow.keras.backend as K\n",
    "from tensorflow.keras import datasets, utils, preprocessing\n",
    "from tensorflow.keras import models, losses, optimizers\n",
    "from tensorflow.keras import layers\n",
    "from tensorflow.keras.utils import to_categorical\n",
    "from tensorflow.keras.models import Sequential\n",
    "from tensorflow.keras.layers import Conv2D, MaxPooling2D, Flatten, Dense, Dropout, Activation\n",
    "from numpy.random import seed\n",
    "from tensorflow import random"
   ]
  },
  {
   "cell_type": "code",
   "execution_count": 2,
   "metadata": {
    "colab": {
     "base_uri": "https://localhost:8080/"
    },
    "id": "0NvTVuv7OQDu",
    "outputId": "57a74792-1523-4719-cfaa-197f896804ad"
   },
   "outputs": [
    {
     "name": "stdout",
     "output_type": "stream",
     "text": [
      "2.3.0\n",
      "Num GPUs Available:  0\n"
     ]
    }
   ],
   "source": [
    "# Comprobar versión de TensorFlow\n",
    "print(tf.__version__)\n",
    "print(\"Num GPUs Available: \", len(tf.config.list_physical_devices('GPU')))\n",
    "\n",
    "#apaño para un error\n",
    "from tensorflow.compat.v1 import ConfigProto\n",
    "from tensorflow.compat.v1 import InteractiveSession\n",
    "\n",
    " \n",
    "\n",
    "config = ConfigProto()\n",
    "config.gpu_options.allow_growth = True\n",
    "session = InteractiveSession(config=config)\n",
    "#fin apaño\n",
    "\n",
    "# Fijar semilla\n",
    "seed(22)\n",
    "random.set_seed(22)"
   ]
  },
  {
   "cell_type": "code",
   "execution_count": 3,
   "metadata": {
    "colab": {
     "base_uri": "https://localhost:8080/"
    },
    "id": "0NvTVuv7OQDu",
    "outputId": "57a74792-1523-4719-cfaa-197f896804ad"
   },
   "outputs": [],
   "source": [
    "#Fijar método y porcentaje de poda\n",
    "METHOD = 'l1'\n",
    "PERCENT = 0.1"
   ]
  },
  {
   "cell_type": "code",
   "execution_count": 4,
   "metadata": {
    "id": "RObhOy1plxzm"
   },
   "outputs": [],
   "source": [
    "# Obtener dataset\n",
    "(x_train, y_train), (x_test, y_test) = datasets.mnist.load_data(path=\"mnist.npz\")"
   ]
  },
  {
   "cell_type": "code",
   "execution_count": 5,
   "metadata": {
    "colab": {
     "base_uri": "https://localhost:8080/"
    },
    "id": "GSDelv73lyUW",
    "outputId": "2a46e9ad-67ed-4d40-e600-32f1361e0b30"
   },
   "outputs": [
    {
     "name": "stdout",
     "output_type": "stream",
     "text": [
      "(10000, 28, 28, 1)\n",
      "(60000, 28, 28, 1)\n"
     ]
    }
   ],
   "source": [
    "# Normalizar datos de test y train (originalmente 255 valores)\n",
    "x_test = x_test.astype('float32')\n",
    "x_train = x_train.astype('float32')\n",
    "x_test /= 255\n",
    "x_train /= 255\n",
    "\n",
    "img_rows, img_cols = 28, 28\n",
    "num_dim = 1\n",
    "num_classes = 10\n",
    "\n",
    "# Pasar de matriz a vectores\n",
    "x_train = x_train.reshape(x_train.shape[0], img_rows, img_cols, num_dim)\n",
    "x_test = x_test.reshape(x_test.shape[0], img_rows, img_cols, num_dim)\n",
    "\n",
    "print(x_test.shape)\n",
    "print(x_train.shape)"
   ]
  },
  {
   "cell_type": "code",
   "execution_count": 6,
   "metadata": {
    "colab": {
     "base_uri": "https://localhost:8080/"
    },
    "id": "2TSH8CS7l0O1",
    "outputId": "9bd98e7b-1ed4-4154-bbf4-11644f2057be"
   },
   "outputs": [
    {
     "name": "stdout",
     "output_type": "stream",
     "text": [
      "(10000, 10)\n",
      "(60000, 10)\n"
     ]
    }
   ],
   "source": [
    "# Codificación One-hot para las clases\n",
    "y_test_oh = to_categorical(y_test, num_classes)\n",
    "y_train_oh = to_categorical(y_train, num_classes)\n",
    "\n",
    "print(y_test_oh.shape)\n",
    "print(y_train_oh.shape)"
   ]
  },
  {
   "cell_type": "code",
   "execution_count": 7,
   "metadata": {
    "id": "cQvBRMQ7l6dK"
   },
   "outputs": [],
   "source": [
    "# Definición de hiperparámetros\n",
    "learning_rate = 0.001  # learning rate\n",
    "batch_size = 16   # Tamaño del batch\n",
    "epochs = 5  # Número de epochs\n",
    "adam = optimizers.Adam(learning_rate=learning_rate)"
   ]
  },
  {
   "cell_type": "code",
   "execution_count": 8,
   "metadata": {
    "colab": {
     "base_uri": "https://localhost:8080/",
     "height": 36
    },
    "id": "vQbNZj6vmEQM",
    "outputId": "41b74217-ce68-437a-a5a3-651723080a79"
   },
   "outputs": [
    {
     "data": {
      "text/plain": [
       "'\\nLA PARTE DE PRUNING\\n'"
      ]
     },
     "execution_count": 8,
     "metadata": {},
     "output_type": "execute_result"
    }
   ],
   "source": [
    "\"\"\"\n",
    "LA PARTE DE PRUNING\n",
    "\"\"\""
   ]
  },
  {
   "cell_type": "code",
   "execution_count": 9,
   "metadata": {},
   "outputs": [
    {
     "name": "stdout",
     "output_type": "stream",
     "text": [
      "Model: \"sequential\"\n",
      "_________________________________________________________________\n",
      "Layer (type)                 Output Shape              Param #   \n",
      "=================================================================\n",
      "conv2d (Conv2D)              (None, 24, 24, 20)        520       \n",
      "_________________________________________________________________\n",
      "activation (Activation)      (None, 24, 24, 20)        0         \n",
      "_________________________________________________________________\n",
      "conv2d_1 (Conv2D)            (None, 20, 20, 50)        25050     \n",
      "_________________________________________________________________\n",
      "activation_1 (Activation)    (None, 20, 20, 50)        0         \n",
      "_________________________________________________________________\n",
      "flatten (Flatten)            (None, 20000)             0         \n",
      "_________________________________________________________________\n",
      "dense (Dense)                (None, 100)               2000100   \n",
      "_________________________________________________________________\n",
      "activation_2 (Activation)    (None, 100)               0         \n",
      "_________________________________________________________________\n",
      "dense_1 (Dense)              (None, 10)                1010      \n",
      "_________________________________________________________________\n",
      "activation_3 (Activation)    (None, 10)                0         \n",
      "=================================================================\n",
      "Total params: 2,026,680\n",
      "Trainable params: 2,026,680\n",
      "Non-trainable params: 0\n",
      "_________________________________________________________________\n"
     ]
    }
   ],
   "source": [
    "# Importar modelo Keras\n",
    "mnistnet = models.load_model('../../models/MNIST_model/mnistnetKeras.h5')\n",
    "\n",
    "# Verificar que el modelo es el correcto\n",
    "mnistnet.summary()"
   ]
  },
  {
   "cell_type": "code",
   "execution_count": 10,
   "metadata": {
    "colab": {
     "base_uri": "https://localhost:8080/"
    },
    "id": "s8QQmGYfmEtm",
    "outputId": "a666d038-d446-46a1-b25a-4394a787ebe2"
   },
   "outputs": [],
   "source": [
    "#!pip install folium==0.2.1\n",
    "#!pip install imgaug==0.2.6\n",
    "#!pip install kerassurgeon\n",
    "\n",
    "import tensorflow.keras.backend as K\n",
    "from tensorflow.keras.preprocessing.image import ImageDataGenerator\n",
    "from tensorflow.keras.models import Model\n",
    "from kerassurgeon import Surgeon, identify\n",
    "from kerassurgeon.operations import delete_channels, delete_layer\n",
    "import os\n",
    "import numpy as np\n",
    "import math\n",
    "  \n",
    "def get_filter_weights(model, layer=None):\n",
    "    \"\"\"function to return weights array for one or all conv layers of a Keras model\"\"\"\n",
    "    if layer or layer==0:\n",
    "        weight_array = model.layers[layer].get_weights()[0]\n",
    "        \n",
    "    else:\n",
    "        weights = [model.layers[layer_ix].get_weights()[0] for layer_ix in range(len(model.layers))\\\n",
    "         if 'conv' in model.layers[layer_ix].name]\n",
    "        weight_array = [np.array(i) for i in weights]\n",
    "    \n",
    "    return weight_array\n",
    "\n",
    "def get_filters_l1(model, layer=None):\n",
    "    \"\"\"Returns L1 norm of a Keras model filters at a given conv layer, if layer=None, returns a matrix of norms\n",
    "model is a Keras model\"\"\"\n",
    "    if layer or layer==0:\n",
    "        weights = get_filter_weights(model, layer)\n",
    "        num_filter = len(weights[0,0,0,:])\n",
    "        norms_dict = {}\n",
    "        norms = []\n",
    "        for i in range(num_filter):\n",
    "            l1_norm = np.sum(abs(weights[:,:,:,i]))\n",
    "            norms.append(l1_norm)\n",
    "    else:\n",
    "        weights = get_filter_weights(model)\n",
    "        max_kernels = max([layr.shape[3] for layr in weights])\n",
    "        norms = np.empty((len(weights), max_kernels))\n",
    "        norms[:] = np.NaN\n",
    "        for layer_ix in range(len(weights)):\n",
    "            # compute norm of the filters\n",
    "            kernel_size = weights[layer_ix][:,:,:,0].size\n",
    "            nb_filters = weights[layer_ix].shape[3]\n",
    "            kernels = weights[layer_ix]\n",
    "            l1 = [np.sum(abs(kernels[:,:,:,i])) for i in range(nb_filters)]\n",
    "            # divide by shape of the filters\n",
    "            l1 = np.array(l1) / kernel_size\n",
    "            norms[layer_ix, :nb_filters] = l1\n",
    "    return norms"
   ]
  },
  {
   "cell_type": "code",
   "execution_count": 11,
   "metadata": {
    "id": "yFiJt2HimHn0"
   },
   "outputs": [],
   "source": [
    "def get_filters_apoz(model, layer=None):\n",
    "    \n",
    "    # Get a sample of the train set , or should it be the validation set ?\n",
    "    test_generator = ImageDataGenerator(rescale=1./255, validation_split=0.1)\n",
    "\n",
    "    apoz_generator = test_generator.flow(\n",
    "                x_test,\n",
    "                batch_size = 1,\n",
    "                subset='validation',\n",
    "                shuffle = False)\n",
    "    \n",
    "    if layer or layer ==0:\n",
    "        assert 'conv' in model.layers[layer].name, \"The layer provided is not a convolution layer\"\n",
    "        weights_array = get_filter_weights(model, layer)\n",
    "        act_ix = layer + 1\n",
    "        nb_filters = weights_array.shape[3]\n",
    "        apoz = compute_apoz(model, act_ix, nb_filters, apoz_generator)\n",
    "                \n",
    "    else :\n",
    "        weights_array = get_filter_weights(model)\n",
    "        max_kernels = max([layr.shape[3] for layr in weights_array])\n",
    "\n",
    "        conv_indexes = [i for i, v in enumerate(model.layers) if 'conv' in v.name]\n",
    "        print('------------------------------------------------')\n",
    "        activations_indexes = [i for i,v in enumerate(model.layers) if 'activation' \\\n",
    "                       in v.name and 'conv' in model.layers[i-1].name]\n",
    "        for i,v in enumerate(model.layers):\n",
    "          print(i)\n",
    "          print(v)\n",
    "        print('------------------------------------------------')\n",
    "        # create nd array to collect values\n",
    "        apoz = np.zeros((len(weights_array), max_kernels))\n",
    "\n",
    "        for i, act_ix in enumerate(activations_indexes):\n",
    "            # score this sample with our model (trimmed to the layer of interest)\n",
    "            nb_filters = weights_array[i].shape[3]\n",
    "            apoz_layer = compute_apoz(model, act_ix, nb_filters, apoz_generator)\n",
    "            print('APOZ de la capa {}:'.format(i))\n",
    "            print(apoz_layer)\n",
    "            apoz[i, :nb_filters] = apoz_layer\n",
    "        \n",
    "    return apoz\n",
    "\n",
    "\n",
    "def compute_apoz(model, layer_ix, nb_filters, generator):\n",
    "    \"\"\"Compute Average percentage of zeros over a layers activation maps\"\"\"\n",
    "    act_layer = model.get_layer(index=layer_ix)\n",
    "    node_index = 0\n",
    "    temp_model = Model(model.inputs,\n",
    "                               act_layer.get_output_at(node_index)\n",
    "                              )\n",
    "\n",
    "\n",
    "            # count the percentage of zeros per activation\n",
    "    a = temp_model.predict_generator(generator,944, workers=3, verbose=1)\n",
    "    activations = a.reshape(a.shape[0]*a.shape[1]*a.shape[2],nb_filters).T\n",
    "    apoz_layer = np.sum(activations == 0, axis=1) / activations.shape[1]\n",
    "    \n",
    "    return apoz_layer"
   ]
  },
  {
   "cell_type": "code",
   "execution_count": 12,
   "metadata": {
    "id": "XhppIK899EpC"
   },
   "outputs": [],
   "source": [
    "#function to return pruned filters with apoz method\n",
    "def prune_apoz(model, n_pruned, layer=None):\n",
    "    \"\"\"returns list of indexes of filter to prune or a matrix layer X filter to prune\"\"\"\n",
    "    if layer or layer==0:\n",
    "        apoz = get_filters_apoz(model,layer)\n",
    "        to_prune = np.argsort(apoz)[::-1][:n_pruned]\n",
    "    \n",
    "    else:\n",
    "        apoz = get_filters_apoz(model)\n",
    "        print(apoz)\n",
    "        print('-------------')\n",
    "        to_prune = biggest_indices(apoz, n_pruned)\n",
    "        print('to prune')\n",
    "        print(to_prune)\n",
    "    \n",
    "    return to_prune\n",
    "\n",
    "#function to return pruned filters with l1 method\n",
    "def prune_l1(model, n_pruned, layer=None):\n",
    "    \"\"\"returns list of indexes of filter to prune or a matrix layer X filter to prune\"\"\"\n",
    "    if layer or layer==0:\n",
    "        norms = get_filters_l1(model,layer)\n",
    "        to_prune = np.argsort(norms)[:n_pruned]\n",
    "    \n",
    "    else:\n",
    "        norms = get_filters_l1(model)\n",
    "        to_prune = smallest_indices(norms, n_pruned)\n",
    "    \n",
    "    return to_prune\n",
    "\n",
    "def prune_random(model, n_pruned, layer=None):\n",
    "    \"\"\"returns list of indexes of filter to prune or a matrix layer X filter to prune\"\"\"\n",
    "    weights = get_filter_weights(model, layer)\n",
    "    if layer or layer==0:\n",
    "        n_filters = weights.shape[3]\n",
    "        to_prune = np.random.choice(range(n_filters), n_pruned, replace=False)\n",
    "    else:\n",
    "        layer_ix = np.random.choice(len(weights))\n",
    "        filters = weights[layer_ix].shape[3]\n",
    "        filter_ix = np.random.choice(range(filters))\n",
    "        to_prune = [[layer_ix, filter_ix]]\n",
    "\n",
    "        for i in range(n_pruned-1):\n",
    "            while [layer_ix, filter_ix] in to_prune :\n",
    "                #choose layer\n",
    "                layer_ix = np.random.choice(len(weights))\n",
    "                #choose filter \n",
    "                filters = weights[layer_ix].shape[3]\n",
    "                filter_ix = np.random.choice(range(filters))\n",
    "            to_prune.append([layer_ix, filter_ix])\n",
    "\n",
    "        to_prune = np.array(to_prune)\n",
    "    return to_prune"
   ]
  },
  {
   "cell_type": "code",
   "execution_count": 13,
   "metadata": {
    "id": "tg74IXvcmKmZ"
   },
   "outputs": [],
   "source": [
    "def compute_pruned_count(model, perc=0.1, layer=None):\n",
    "    if layer or layer ==0:\n",
    "        # count nb of filters\n",
    "        nb_filters = model.layers[layer].output_shape[3]\n",
    "    else:\n",
    "        nb_filters = np.sum([model.layers[i].output_shape[3] for i, layer in enumerate(model.layers) \n",
    "                                if 'conv' in model.layers[i].name])\n",
    "            \n",
    "    n_pruned = int(np.floor(perc*nb_filters))\n",
    "    return n_pruned\n",
    "\n",
    "\n",
    "def smallest_indices(array, N):\n",
    "    idx = array.ravel().argsort()[:N]\n",
    "    return np.stack(np.unravel_index(idx, array.shape)).T\n",
    "\n",
    "def biggest_indices(array, N):\n",
    "    idx = array.ravel().argsort()[::-1][:N]\n",
    "    return np.stack(np.unravel_index(idx, array.shape)).T"
   ]
  },
  {
   "cell_type": "code",
   "execution_count": 14,
   "metadata": {
    "id": "DRYFjOF6mMXA"
   },
   "outputs": [],
   "source": [
    "from kerassurgeon.operations import delete_channels, delete_layer\n",
    "from kerassurgeon import Surgeon\n",
    "\n",
    "def prune_one_layer(model, pruned_indexes, layer_ix, opt):\n",
    "    \"\"\"Prunes one layer based on a Keras Model, layer index \n",
    "    and indexes of filters to prune\"\"\"\n",
    "    model_pruned = delete_channels(model, model.layers[layer_ix], pruned_indexes)\n",
    "    model_pruned.compile(loss='categorical_crossentropy',\n",
    "                          optimizer=opt,\n",
    "                          metrics=['accuracy'])\n",
    "    return model_pruned\n",
    "\n",
    "def prune_multiple_layers(model, pruned_matrix, opt):\n",
    "    \"\"\"Prunes several layers based on a Keras Model, layer index and matrix \n",
    "    of indexes of filters to prune\"\"\"\n",
    "    conv_indexes = [i for i, v in enumerate(model.layers) if 'conv' in v.name]\n",
    "    layers_to_prune = np.unique(pruned_matrix[:,0])\n",
    "    surgeon = Surgeon(model, copy=True)\n",
    "    to_prune = pruned_matrix\n",
    "    to_prune[:,0] = np.array([conv_indexes[i] for i in to_prune[:,0]])\n",
    "    layers_to_prune = np.unique(to_prune[:,0])\n",
    "    for layer_ix in layers_to_prune :\n",
    "        pruned_filters = [x[1] for x in to_prune if x[0]==layer_ix]\n",
    "        print('filtros a podar:')\n",
    "        print(pruned_filters)\n",
    "        pruned_layer = model.layers[layer_ix]\n",
    "        print('capa a podar:')\n",
    "        print(pruned_layer)\n",
    "        surgeon.add_job('delete_channels', pruned_layer, channels=pruned_filters)\n",
    "    \n",
    "    model_pruned = surgeon.operate()\n",
    "    model_pruned.compile(loss='categorical_crossentropy',\n",
    "              optimizer=opt,\n",
    "              metrics=['accuracy'])\n",
    "    \n",
    "    return model_pruned"
   ]
  },
  {
   "cell_type": "code",
   "execution_count": 15,
   "metadata": {
    "id": "QngxSqW3mOXi"
   },
   "outputs": [],
   "source": [
    "def prune_model(model, perc, opt, method='l1', layer=None):\n",
    "    \"\"\"Prune a Keras model using different methods\n",
    "    Arguments:\n",
    "        model: Keras Model object\n",
    "        perc: a float between 0 and 1\n",
    "        method: method to prune, can be one of ['l1','apoz','random']\n",
    "    Returns:\n",
    "        A pruned Keras Model object\n",
    "    \n",
    "    \"\"\"\n",
    "    assert method in ['l1','apoz','random'], \"Invalid pruning method\"\n",
    "    assert perc >=0 and perc <1, \"Invalid pruning percentage\"\n",
    "    \n",
    "    \n",
    "    n_pruned = compute_pruned_count(model, perc, layer)\n",
    "    \n",
    "    if method =='l1':\n",
    "        to_prune = prune_l1(model, n_pruned, layer)    \n",
    "    if method =='apoz':\n",
    "        to_prune = prune_apoz(model, n_pruned, layer)\n",
    "    if method =='random':\n",
    "        to_prune = prune_random(model, n_pruned, layer)    \n",
    "    if layer or layer ==0:\n",
    "        model_pruned = prune_one_layer(model, to_prune, layer, opt)\n",
    "    else:\n",
    "        model_pruned = prune_multiple_layers(model, to_prune, opt)\n",
    "            \n",
    "    return model_pruned"
   ]
  },
  {
   "cell_type": "code",
   "execution_count": 16,
   "metadata": {
    "colab": {
     "base_uri": "https://localhost:8080/"
    },
    "id": "hqnPEc4amQu2",
    "outputId": "7acae651-8407-4ed0-ca1c-c0c06ff6140c"
   },
   "outputs": [
    {
     "name": "stdout",
     "output_type": "stream",
     "text": [
      "filtros a podar:\n",
      "[38, 45, 23, 39, 34, 29, 17]\n",
      "capa a podar:\n",
      "<tensorflow.python.keras.layers.convolutional.Conv2D object at 0x7f674c2237f0>\n",
      "Deleting 7/50 channels from layer: conv2d_1\n",
      "Model: \"functional_1\"\n",
      "_________________________________________________________________\n",
      "Layer (type)                 Output Shape              Param #   \n",
      "=================================================================\n",
      "conv2d_input (InputLayer)    [(None, 28, 28, 1)]       0         \n",
      "_________________________________________________________________\n",
      "conv2d (Conv2D)              (None, 24, 24, 20)        520       \n",
      "_________________________________________________________________\n",
      "activation (Activation)      (None, 24, 24, 20)        0         \n",
      "_________________________________________________________________\n",
      "conv2d_1 (Conv2D)            (None, 20, 20, 43)        21543     \n",
      "_________________________________________________________________\n",
      "activation_1 (Activation)    (None, 20, 20, 43)        0         \n",
      "_________________________________________________________________\n",
      "flatten (Flatten)            (None, 17200)             0         \n",
      "_________________________________________________________________\n",
      "dense (Dense)                (None, 100)               1720100   \n",
      "_________________________________________________________________\n",
      "activation_2 (Activation)    (None, 100)               0         \n",
      "_________________________________________________________________\n",
      "dense_1 (Dense)              (None, 10)                1010      \n",
      "_________________________________________________________________\n",
      "activation_3 (Activation)    (None, 10)                0         \n",
      "=================================================================\n",
      "Total params: 1,743,173\n",
      "Trainable params: 1,743,173\n",
      "Non-trainable params: 0\n",
      "_________________________________________________________________\n"
     ]
    }
   ],
   "source": [
    "# Podar modelo\n",
    "model_pruned = prune_model(mnistnet, PERCENT, adam, method=METHOD)\n",
    "model_pruned.summary()"
   ]
  },
  {
   "cell_type": "code",
   "execution_count": 17,
   "metadata": {
    "scrolled": true
   },
   "outputs": [
    {
     "name": "stdout",
     "output_type": "stream",
     "text": [
      "Epoch 1/5\n",
      "3750/3750 [==============================] - 43s 11ms/step - loss: 0.0446 - accuracy: 0.9865 - val_loss: 0.0548 - val_accuracy: 0.9848\n",
      "Epoch 2/5\n",
      "3750/3750 [==============================] - 42s 11ms/step - loss: 0.0275 - accuracy: 0.9912 - val_loss: 0.0379 - val_accuracy: 0.9899\n",
      "Epoch 3/5\n",
      "3750/3750 [==============================] - 41s 11ms/step - loss: 0.0201 - accuracy: 0.9936 - val_loss: 0.0457 - val_accuracy: 0.9879\n",
      "Epoch 4/5\n",
      "3750/3750 [==============================] - 40s 11ms/step - loss: 0.0164 - accuracy: 0.9951 - val_loss: 0.0553 - val_accuracy: 0.9857\n",
      "Epoch 5/5\n",
      "3750/3750 [==============================] - 40s 11ms/step - loss: 0.0123 - accuracy: 0.9962 - val_loss: 0.0565 - val_accuracy: 0.9896\n"
     ]
    }
   ],
   "source": [
    "# Fine tune\n",
    "history = model_pruned.fit(x_train, y_train_oh, epochs=epochs, batch_size=batch_size,\n",
    "                        validation_data=(x_test, y_test_oh))"
   ]
  },
  {
   "cell_type": "code",
   "execution_count": 18,
   "metadata": {
    "id": "zHvxB8gIGmSm"
   },
   "outputs": [],
   "source": [
    "# Guardar a disco modelo de Keras en formato h5 y h5py\n",
    "model_pruned.save('mnistnetKerasPruned.h5')"
   ]
  },
  {
   "cell_type": "code",
   "execution_count": 19,
   "metadata": {},
   "outputs": [
    {
     "name": "stdout",
     "output_type": "stream",
     "text": [
      "WARNING:tensorflow:From /home/lucas/tfg-env/lib/python3.6/site-packages/tensorflow/python/training/tracking/tracking.py:111: Model.state_updates (from tensorflow.python.keras.engine.training) is deprecated and will be removed in a future version.\n",
      "Instructions for updating:\n",
      "This property should not be used in TensorFlow 2.0, as updates are applied automatically.\n"
     ]
    },
    {
     "name": "stderr",
     "output_type": "stream",
     "text": [
      "WARNING:tensorflow:From /home/lucas/tfg-env/lib/python3.6/site-packages/tensorflow/python/training/tracking/tracking.py:111: Model.state_updates (from tensorflow.python.keras.engine.training) is deprecated and will be removed in a future version.\n",
      "Instructions for updating:\n",
      "This property should not be used in TensorFlow 2.0, as updates are applied automatically.\n"
     ]
    },
    {
     "name": "stdout",
     "output_type": "stream",
     "text": [
      "WARNING:tensorflow:From /home/lucas/tfg-env/lib/python3.6/site-packages/tensorflow/python/training/tracking/tracking.py:111: Layer.updates (from tensorflow.python.keras.engine.base_layer) is deprecated and will be removed in a future version.\n",
      "Instructions for updating:\n",
      "This property should not be used in TensorFlow 2.0, as updates are applied automatically.\n"
     ]
    },
    {
     "name": "stderr",
     "output_type": "stream",
     "text": [
      "WARNING:tensorflow:From /home/lucas/tfg-env/lib/python3.6/site-packages/tensorflow/python/training/tracking/tracking.py:111: Layer.updates (from tensorflow.python.keras.engine.base_layer) is deprecated and will be removed in a future version.\n",
      "Instructions for updating:\n",
      "This property should not be used in TensorFlow 2.0, as updates are applied automatically.\n"
     ]
    },
    {
     "name": "stdout",
     "output_type": "stream",
     "text": [
      "INFO:tensorflow:Assets written to: /tmp/tmp2d9tsuhu/assets\n"
     ]
    },
    {
     "name": "stderr",
     "output_type": "stream",
     "text": [
      "INFO:tensorflow:Assets written to: /tmp/tmp2d9tsuhu/assets\n"
     ]
    },
    {
     "name": "stdout",
     "output_type": "stream",
     "text": [
      "INFO:tensorflow:Assets written to: /tmp/tmp22xgv45w/assets\n"
     ]
    },
    {
     "name": "stderr",
     "output_type": "stream",
     "text": [
      "INFO:tensorflow:Assets written to: /tmp/tmp22xgv45w/assets\n"
     ]
    },
    {
     "data": {
      "text/plain": [
       "1751136"
      ]
     },
     "execution_count": 19,
     "metadata": {},
     "output_type": "execute_result"
    }
   ],
   "source": [
    "# Convertir a Tensorflow Lite sin Cuantización\n",
    "converter = tf.lite.TFLiteConverter.from_keras_model(model_pruned)\n",
    "tflite_model = converter.convert()\n",
    "# Guardar a disco\n",
    "open(\"mnistnetTFLitePruned.tflite\", \"wb\").write(tflite_model)\n",
    "\n",
    "# Convertir a Tensorflow Lite con Cuantización de rango dinámico\n",
    "def representative_dataset():\n",
    "    for i in range(100):\n",
    "      x_test_rd = np.expand_dims(x_test, -1)  \n",
    "      yield [x_test_rd[i].astype(np.float32)]\n",
    "\n",
    "converter_q = tf.lite.TFLiteConverter.from_keras_model(model_pruned)\n",
    "converter_q.optimizations = [tf.lite.Optimize.DEFAULT]\n",
    "tflite_quant_model = converter_q.convert()\n",
    "# Guardar a disco\n",
    "open(\"mnistnetTFLitePrunedQuant.tflite\", \"wb\").write(tflite_quant_model)"
   ]
  },
  {
   "cell_type": "code",
   "execution_count": 20,
   "metadata": {},
   "outputs": [
    {
     "data": {
      "text/plain": [
       "'\\nPARTE DE COMPARACIÓN DE TAMAÑOS\\n'"
      ]
     },
     "execution_count": 20,
     "metadata": {},
     "output_type": "execute_result"
    }
   ],
   "source": [
    "\"\"\"\n",
    "PARTE DE COMPARACIÓN DE TAMAÑOS\n",
    "\"\"\""
   ]
  },
  {
   "cell_type": "code",
   "execution_count": 21,
   "metadata": {},
   "outputs": [],
   "source": [
    "def get_gzipped_model_size(file):\n",
    "  # Returns size of gzipped model, in bytes.\n",
    "  import os\n",
    "  import zipfile\n",
    "\n",
    "  _, zipped_file = tempfile.mkstemp('.zip')\n",
    "  with zipfile.ZipFile(zipped_file, 'w', compression=zipfile.ZIP_DEFLATED) as f:\n",
    "    f.write(file)\n",
    "\n",
    "  return os.path.getsize(zipped_file)\n"
   ]
  },
  {
   "cell_type": "code",
   "execution_count": 22,
   "metadata": {},
   "outputs": [
    {
     "name": "stdout",
     "output_type": "stream",
     "text": [
      "El tamaño del modelo comprimido en Keras es 22854716.00 bytes\n",
      "------------------------------------------------------\n",
      "El tamaño del modelo comprimido en Keras PODADO es 19474892.00 bytes\n",
      "------------------------------------------------------\n",
      "El tamaño del modelo comprimido PODADO y en TFlite sin cuantizar es 6478897.00 bytes\n",
      "------------------------------------------------------\n",
      "El tamaño del modelo comprimido PODADO y en TFlite CUANTIZADO es 1408940.00 bytes\n"
     ]
    }
   ],
   "source": [
    "# Comparación de tamaños\n",
    "print(\"El tamaño del modelo comprimido en Keras es %.2f bytes\" % get_gzipped_model_size('../../models/MNIST_model/mnistnetKeras.h5'))\n",
    "print(\"------------------------------------------------------\")\n",
    "print(\"El tamaño del modelo comprimido en Keras PODADO es %.2f bytes\" % get_gzipped_model_size('mnistnetKerasPruned.h5'))\n",
    "print(\"------------------------------------------------------\")\n",
    "print(\"El tamaño del modelo comprimido PODADO y en TFlite sin cuantizar es %.2f bytes\" % get_gzipped_model_size('mnistnetTFLitePruned.tflite'))\n",
    "print(\"------------------------------------------------------\")\n",
    "print(\"El tamaño del modelo comprimido PODADO y en TFlite CUANTIZADO es %.2f bytes\" % get_gzipped_model_size('mnistnetTFLitePrunedQuant.tflite'))"
   ]
  },
  {
   "cell_type": "code",
   "execution_count": 23,
   "metadata": {},
   "outputs": [
    {
     "data": {
      "text/plain": [
       "'\\nPARTE DE COMPARACIÓN DE PRECISIÓN Y TOMA DE TIEMPOS\\n'"
      ]
     },
     "execution_count": 23,
     "metadata": {},
     "output_type": "execute_result"
    }
   ],
   "source": [
    "\"\"\"\n",
    "PARTE DE COMPARACIÓN DE PRECISIÓN Y TOMA DE TIEMPOS\n",
    "\"\"\""
   ]
  },
  {
   "cell_type": "code",
   "execution_count": 24,
   "metadata": {},
   "outputs": [
    {
     "name": "stdout",
     "output_type": "stream",
     "text": [
      "313/313 [==============================] - 1s 5ms/step - loss: 0.0683 - accuracy: 0.9892\n",
      "\n",
      "accuracy: 98.92%\n"
     ]
    }
   ],
   "source": [
    "import time\n",
    "import statistics\n",
    "\n",
    "# Probaremos la precisión del modelo de Keras sin podar\n",
    "scores = mnistnet.evaluate(x_test, y_test_oh)\n",
    "print(\"\\n%s: %.2f%%\" % (mnistnet.metrics_names[1], scores[1]*100))"
   ]
  },
  {
   "cell_type": "code",
   "execution_count": 25,
   "metadata": {},
   "outputs": [],
   "source": [
    "def predict_tflite(tflite_model, x_test, y_true, quantized):\n",
    "\n",
    "    #lista de tiempos \n",
    "    times=[]\n",
    "\n",
    "    # Preparar el cjto de test\n",
    "    x_test_ = x_test.copy()\n",
    "    x_test_ = x_test_.astype(np.float32)\n",
    "\n",
    "    if(quantized):\n",
    "        # Instanciar un intérprete de Tensorflow lite\n",
    "        MNIST_quantized_interpreter = tf.lite.Interpreter('mnistnetTFLitePrunedQuant.tflite')\n",
    "\n",
    "        # Reservar memoria para el modelo\n",
    "        MNIST_quantized_interpreter.allocate_tensors()\n",
    "\n",
    "        # Tensores de entrada y salida\n",
    "        input_details_quantized = MNIST_quantized_interpreter.get_input_details()[0]\n",
    "        output_details_quantized = MNIST_quantized_interpreter.get_output_details()[0]\n",
    "\n",
    "        # Arrays para almacenar resultados\n",
    "        y_pred_quantized = np.empty([x_test_.shape[0], 10], dtype=output_details_quantized[\"dtype\"])\n",
    "\n",
    "        # Para cada elemento del conjunto de test ...\n",
    "        for i in range(len(x_test_)):\n",
    "            # Escribimos el tensor en la input de la red neuronal\n",
    "            MNIST_quantized_interpreter.set_tensor(input_details_quantized[\"index\"], [x_test_[i]])\n",
    "            # Invocamos al intérprete\n",
    "            init = time.time() # Comenzamos a medir el tiempo\n",
    "            MNIST_quantized_interpreter.invoke()\n",
    "            end = time.time() # Acabamos\n",
    "            times.append(end - init) # Elapsed time\n",
    "            # Guardamos la salida \n",
    "            y_pred_quantized[i,:] = to_categorical(MNIST_quantized_interpreter.get_tensor(output_details_quantized[\"index\"])[0].argmax(), 10)\n",
    "        \n",
    "        # Media de los tiempos de predicción en segs\n",
    "        print(\"Media de los tiempos de ejecución con cuantización: \" + str(statistics.mean(times)) + \"segs\")\n",
    "        accuracy_score = sklearn.metrics.accuracy_score(y_true, y_pred_quantized)\n",
    "        print(\"Accuracy score:\", accuracy_score)\n",
    "        #print(y_pred)\n",
    "        \n",
    "        return accuracy_score\n",
    "\n",
    "    else:\n",
    "        # Instanciar un intérprete de Tensorflow lite\n",
    "        MNIST_interpreter = tf.lite.Interpreter('mnistnetTFLitePruned.tflite')\n",
    "\n",
    "        # Reservar memoria para el modelo\n",
    "        MNIST_interpreter.allocate_tensors()\n",
    "\n",
    "        # Tensores de entrada y salida\n",
    "        input_details = MNIST_interpreter.get_input_details()[0]\n",
    "        output_details = MNIST_interpreter.get_output_details()[0]\n",
    "\n",
    "        # Arrays para almacenar resultados\n",
    "        y_pred = np.empty([x_test_.shape[0], 10], dtype=output_details[\"dtype\"])\n",
    "\n",
    "        # Para cada elemento del conjunto de test ...\n",
    "        for i in range(len(x_test_)):\n",
    "            # Escribimos el tensor en la input de la red neuronal\n",
    "            MNIST_interpreter.set_tensor(input_details[\"index\"], [x_test_[i]])\n",
    "            # Invocamos al intérprete\n",
    "            init = time.time() # Comenzamos a medir el tiempo\n",
    "            MNIST_interpreter.invoke()\n",
    "            end = time.time() # Acabamos\n",
    "            times.append(end - init) # Elapsed time\n",
    "            # Guardamos la salida \n",
    "            y_pred[i,:] = to_categorical(MNIST_interpreter.get_tensor(output_details[\"index\"])[0].argmax(), 10)\n",
    "            \n",
    "        # Media de los tiempos de predicción en segs\n",
    "        print(\"Media de los tiempos de ejecución sin cuantización: \" + str(statistics.mean(times)) + \"segs\")\n",
    "        # Cálculo de la precisión\n",
    "        accuracy_score = sklearn.metrics.accuracy_score(y_true, y_pred)\n",
    "        print(\"Accuracy score:\", accuracy_score)\n",
    "        #print(y_pred)\n",
    "        \n",
    "        return accuracy_score"
   ]
  },
  {
   "cell_type": "code",
   "execution_count": 26,
   "metadata": {},
   "outputs": [
    {
     "name": "stdout",
     "output_type": "stream",
     "text": [
      "10000/10000 [==============================] - 25s 2ms/step - loss: 0.0683 - accuracy: 0.9892\n",
      "10000/10000 [==============================] - 22s 2ms/step - loss: 0.0565 - accuracy: 0.9896\n",
      "Media de los tiempos de ejecución sin cuantización: 0.0008573246717453002segs\n",
      "Accuracy score: 0.9896\n",
      "Media de los tiempos de ejecución con cuantización: 0.0006828970432281494segs\n",
      "Accuracy score: 0.9896\n"
     ]
    }
   ],
   "source": [
    "# Comparación de precisión\n",
    "_ , accuracy_tf = mnistnet.evaluate(x_test, y_test_oh, batch_size=1, verbose=1)\n",
    "_ ,accuracy_tfpruned = model_pruned.evaluate(x_test, y_test_oh, batch_size=1, verbose=1)\n",
    "accuracy_no_quant_tflite = predict_tflite(tflite_model, x_test, y_test_oh, False)\n",
    "accuracy_quant_tflite = predict_tflite(tflite_quant_model, x_test, y_test_oh, True)"
   ]
  },
  {
   "cell_type": "code",
   "execution_count": 27,
   "metadata": {},
   "outputs": [
    {
     "data": {
      "text/html": [
       "<div>\n",
       "<style scoped>\n",
       "    .dataframe tbody tr th:only-of-type {\n",
       "        vertical-align: middle;\n",
       "    }\n",
       "\n",
       "    .dataframe tbody tr th {\n",
       "        vertical-align: top;\n",
       "    }\n",
       "\n",
       "    .dataframe thead th {\n",
       "        text-align: right;\n",
       "    }\n",
       "</style>\n",
       "<table border=\"1\" class=\"dataframe\">\n",
       "  <thead>\n",
       "    <tr style=\"text-align: right;\">\n",
       "      <th></th>\n",
       "      <th>Accuracy</th>\n",
       "    </tr>\n",
       "    <tr>\n",
       "      <th>Model</th>\n",
       "      <th></th>\n",
       "    </tr>\n",
       "  </thead>\n",
       "  <tbody>\n",
       "    <tr>\n",
       "      <th>Keras</th>\n",
       "      <td>0.9892</td>\n",
       "    </tr>\n",
       "    <tr>\n",
       "      <th>Keras podado</th>\n",
       "      <td>0.9896</td>\n",
       "    </tr>\n",
       "    <tr>\n",
       "      <th>TensorFlow Lite no Cuant.</th>\n",
       "      <td>0.9896</td>\n",
       "    </tr>\n",
       "    <tr>\n",
       "      <th>TensorFlow Lite Cuant.</th>\n",
       "      <td>0.9896</td>\n",
       "    </tr>\n",
       "  </tbody>\n",
       "</table>\n",
       "</div>"
      ],
      "text/plain": [
       "                           Accuracy\n",
       "Model                              \n",
       "Keras                        0.9892\n",
       "Keras podado                 0.9896\n",
       "TensorFlow Lite no Cuant.    0.9896\n",
       "TensorFlow Lite Cuant.       0.9896"
      ]
     },
     "execution_count": 27,
     "metadata": {},
     "output_type": "execute_result"
    }
   ],
   "source": [
    "df = pd.DataFrame.from_records(\n",
    "    [[\"Keras\", accuracy_tf],\n",
    "     [\"Keras podado\", accuracy_tfpruned],\n",
    "     [\"TensorFlow Lite no Cuant.\", accuracy_no_quant_tflite],\n",
    "     [\"TensorFlow Lite Cuant.\", accuracy_quant_tflite]],\n",
    "     columns = [\"Model\", \"Accuracy\"], index=\"Model\")\n",
    "df"
   ]
  },
  {
   "cell_type": "code",
   "execution_count": null,
   "metadata": {},
   "outputs": [],
   "source": []
  }
 ],
 "metadata": {
  "colab": {
   "collapsed_sections": [],
   "name": "Untitled0.ipynb",
   "provenance": []
  },
  "kernelspec": {
   "display_name": "Python 3",
   "language": "python",
   "name": "python3"
  },
  "language_info": {
   "codemirror_mode": {
    "name": "ipython",
    "version": 3
   },
   "file_extension": ".py",
   "mimetype": "text/x-python",
   "name": "python",
   "nbconvert_exporter": "python",
   "pygments_lexer": "ipython3",
   "version": "3.6.9"
  },
  "metadata": {
   "interpreter": {
    "hash": "15dad678111f4055199e27812f8fd807e7e8880170b4c46fb7d59063d2f6dd63"
   }
  }
 },
 "nbformat": 4,
 "nbformat_minor": 1
}
