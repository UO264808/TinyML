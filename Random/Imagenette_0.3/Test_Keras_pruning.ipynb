{
 "cells": [
  {
   "cell_type": "code",
   "execution_count": 1,
   "metadata": {
    "colab": {
     "base_uri": "https://localhost:8080/"
    },
    "id": "TikwhxGwlqu7",
    "outputId": "fbf50959-f6ab-4470-9f9b-80b797d68a9a"
   },
   "outputs": [],
   "source": [
    "# Dependencias\n",
    "import os\n",
    "import math\n",
    "import tempfile\n",
    "import tensorflow as tf \n",
    "import numpy as np \n",
    "import pandas as pd\n",
    "import sklearn.metrics\n",
    "import matplotlib.pyplot as plt \n",
    "import tensorflow.keras.backend as K\n",
    "from tensorflow.keras import datasets, utils, preprocessing\n",
    "from tensorflow.keras import models, losses, optimizers\n",
    "from tensorflow.keras import layers\n",
    "from tensorflow.keras.utils import to_categorical\n",
    "from tensorflow.keras.models import Sequential\n",
    "from tensorflow.keras.layers import Conv2D, MaxPooling2D, Flatten, Dense, Dropout, Activation\n",
    "from numpy.random import seed\n",
    "from tensorflow.keras.preprocessing.image import ImageDataGenerator\n",
    "from tensorflow import random"
   ]
  },
  {
   "cell_type": "code",
   "execution_count": 2,
   "metadata": {
    "colab": {
     "base_uri": "https://localhost:8080/"
    },
    "id": "0NvTVuv7OQDu",
    "outputId": "57a74792-1523-4719-cfaa-197f896804ad"
   },
   "outputs": [
    {
     "name": "stdout",
     "output_type": "stream",
     "text": [
      "2.3.0\n",
      "Num GPUs Available:  0\n"
     ]
    }
   ],
   "source": [
    "# Comprobar versión de TensorFlow\n",
    "print(tf.__version__)\n",
    "print(\"Num GPUs Available: \", len(tf.config.list_physical_devices('GPU')))\n",
    "\n",
    "# Fijar semilla\n",
    "seed(22)\n",
    "random.set_seed(22)"
   ]
  },
  {
   "cell_type": "code",
   "execution_count": 3,
   "metadata": {
    "colab": {
     "base_uri": "https://localhost:8080/"
    },
    "id": "0NvTVuv7OQDu",
    "outputId": "57a74792-1523-4719-cfaa-197f896804ad"
   },
   "outputs": [],
   "source": [
    "#Fijar método y porcentaje de poda\n",
    "METHOD = 'random'\n",
    "PERCENT = 0.3"
   ]
  },
  {
   "cell_type": "code",
   "execution_count": 4,
   "metadata": {
    "id": "RObhOy1plxzm"
   },
   "outputs": [
    {
     "name": "stdout",
     "output_type": "stream",
     "text": [
      "Found 9469 images belonging to 10 classes.\n",
      "Found 3925 images belonging to 10 classes.\n"
     ]
    }
   ],
   "source": [
    "# Crear un nuevo generador\n",
    "train_imagegen = ImageDataGenerator(\n",
    "        rescale=1./255,    \n",
    "        featurewise_center=False,  # set input mean to 0 over the dataset\n",
    "        samplewise_center=False,  # set each sample mean to 0\n",
    "        featurewise_std_normalization=False,  # divide inputs by std of the dataset\n",
    "        samplewise_std_normalization=False,  # divide each input by its std\n",
    "        zca_whitening=False,  # apply ZCA whitening\n",
    "        rotation_range=15,  # randomly rotate images in the range (degrees, 0 to 180)\n",
    "        width_shift_range=0.1,  # randomly shift images horizontally (fraction of total width)\n",
    "        height_shift_range=0.1,  # randomly shift images vertically (fraction of total height)\n",
    "        horizontal_flip=True,  # randomly flip images\n",
    "        vertical_flip=False)\n",
    "\n",
    "test_imagegen = ImageDataGenerator(rescale=1./255)\n",
    "\n",
    "# Cargar datos de entrenamiento\n",
    "train = train_imagegen.flow_from_directory(\"../../datasets/imagenette2-160/train/\",\n",
    "                                     class_mode=\"categorical\", \n",
    "                                     shuffle=True,\n",
    "                                     batch_size=32, \n",
    "                                     target_size=(160, 160))\n",
    "#  Cargar datos de validación\n",
    "val = test_imagegen.flow_from_directory(\"../../datasets/imagenette2-160/val/\", \n",
    "                                   class_mode=\"categorical\", \n",
    "                                   shuffle=True, \n",
    "                                   batch_size=32, \n",
    "                                   target_size=(160, 160))"
   ]
  },
  {
   "cell_type": "code",
   "execution_count": 5,
   "metadata": {
    "id": "cQvBRMQ7l6dK"
   },
   "outputs": [],
   "source": [
    "# Definición de hiperparámetros\n",
    "learning_rate = 0.0001 # learning rate\n",
    "lr_decay = 1e-6\n",
    "epochs = 4  # Número de epochs\n",
    "\n",
    "opt = optimizers.RMSprop(lr=0.0001, decay=1e-6)"
   ]
  },
  {
   "cell_type": "code",
   "execution_count": 6,
   "metadata": {
    "colab": {
     "base_uri": "https://localhost:8080/",
     "height": 36
    },
    "id": "vQbNZj6vmEQM",
    "outputId": "41b74217-ce68-437a-a5a3-651723080a79"
   },
   "outputs": [
    {
     "data": {
      "text/plain": [
       "'\\nLA PARTE DE PRUNING\\n'"
      ]
     },
     "execution_count": 6,
     "metadata": {},
     "output_type": "execute_result"
    }
   ],
   "source": [
    "\"\"\"\n",
    "LA PARTE DE PRUNING\n",
    "\"\"\""
   ]
  },
  {
   "cell_type": "code",
   "execution_count": 7,
   "metadata": {},
   "outputs": [
    {
     "name": "stdout",
     "output_type": "stream",
     "text": [
      "Model: \"sequential\"\n",
      "_________________________________________________________________\n",
      "Layer (type)                 Output Shape              Param #   \n",
      "=================================================================\n",
      "conv2d (Conv2D)              (None, 160, 160, 32)      896       \n",
      "_________________________________________________________________\n",
      "activation (Activation)      (None, 160, 160, 32)      0         \n",
      "_________________________________________________________________\n",
      "conv2d_1 (Conv2D)            (None, 158, 158, 32)      9248      \n",
      "_________________________________________________________________\n",
      "activation_1 (Activation)    (None, 158, 158, 32)      0         \n",
      "_________________________________________________________________\n",
      "max_pooling2d (MaxPooling2D) (None, 79, 79, 32)        0         \n",
      "_________________________________________________________________\n",
      "dropout (Dropout)            (None, 79, 79, 32)        0         \n",
      "_________________________________________________________________\n",
      "conv2d_2 (Conv2D)            (None, 79, 79, 64)        18496     \n",
      "_________________________________________________________________\n",
      "activation_2 (Activation)    (None, 79, 79, 64)        0         \n",
      "_________________________________________________________________\n",
      "conv2d_3 (Conv2D)            (None, 77, 77, 64)        36928     \n",
      "_________________________________________________________________\n",
      "activation_3 (Activation)    (None, 77, 77, 64)        0         \n",
      "_________________________________________________________________\n",
      "max_pooling2d_1 (MaxPooling2 (None, 38, 38, 64)        0         \n",
      "_________________________________________________________________\n",
      "dropout_1 (Dropout)          (None, 38, 38, 64)        0         \n",
      "_________________________________________________________________\n",
      "conv2d_4 (Conv2D)            (None, 38, 38, 128)       73856     \n",
      "_________________________________________________________________\n",
      "activation_4 (Activation)    (None, 38, 38, 128)       0         \n",
      "_________________________________________________________________\n",
      "conv2d_5 (Conv2D)            (None, 36, 36, 128)       147584    \n",
      "_________________________________________________________________\n",
      "activation_5 (Activation)    (None, 36, 36, 128)       0         \n",
      "_________________________________________________________________\n",
      "max_pooling2d_2 (MaxPooling2 (None, 18, 18, 128)       0         \n",
      "_________________________________________________________________\n",
      "dropout_2 (Dropout)          (None, 18, 18, 128)       0         \n",
      "_________________________________________________________________\n",
      "conv2d_6 (Conv2D)            (None, 18, 18, 256)       295168    \n",
      "_________________________________________________________________\n",
      "activation_6 (Activation)    (None, 18, 18, 256)       0         \n",
      "_________________________________________________________________\n",
      "conv2d_7 (Conv2D)            (None, 16, 16, 256)       590080    \n",
      "_________________________________________________________________\n",
      "activation_7 (Activation)    (None, 16, 16, 256)       0         \n",
      "_________________________________________________________________\n",
      "max_pooling2d_3 (MaxPooling2 (None, 8, 8, 256)         0         \n",
      "_________________________________________________________________\n",
      "dropout_3 (Dropout)          (None, 8, 8, 256)         0         \n",
      "_________________________________________________________________\n",
      "flatten (Flatten)            (None, 16384)             0         \n",
      "_________________________________________________________________\n",
      "dense (Dense)                (None, 512)               8389120   \n",
      "_________________________________________________________________\n",
      "activation_8 (Activation)    (None, 512)               0         \n",
      "_________________________________________________________________\n",
      "dropout_4 (Dropout)          (None, 512)               0         \n",
      "_________________________________________________________________\n",
      "dense_1 (Dense)              (None, 10)                5130      \n",
      "_________________________________________________________________\n",
      "activation_9 (Activation)    (None, 10)                0         \n",
      "=================================================================\n",
      "Total params: 9,566,506\n",
      "Trainable params: 9,566,506\n",
      "Non-trainable params: 0\n",
      "_________________________________________________________________\n"
     ]
    }
   ],
   "source": [
    "# Importar modelo Keras\n",
    "imagenettenet = models.load_model('../../models/IMAGENETTE_model/imagenetteNetKeras.h5')\n",
    "\n",
    "# Verificar que el modelo es el correcto\n",
    "imagenettenet.summary()"
   ]
  },
  {
   "cell_type": "code",
   "execution_count": 8,
   "metadata": {
    "colab": {
     "base_uri": "https://localhost:8080/"
    },
    "id": "s8QQmGYfmEtm",
    "outputId": "a666d038-d446-46a1-b25a-4394a787ebe2"
   },
   "outputs": [],
   "source": [
    "import tensorflow.keras.backend as K\n",
    "from tensorflow.keras.preprocessing.image import ImageDataGenerator\n",
    "from tensorflow.keras.models import Model\n",
    "from kerassurgeon import Surgeon, identify\n",
    "from kerassurgeon.operations import delete_channels, delete_layer\n",
    "import os\n",
    "import numpy as np\n",
    "import math\n",
    "  \n",
    "def get_filter_weights(model, layer=None):\n",
    "    \"\"\"function to return weights array for one or all conv layers of a Keras model\"\"\"\n",
    "    if layer or layer==0:\n",
    "        weight_array = model.layers[layer].get_weights()[0]\n",
    "        \n",
    "    else:\n",
    "        weights = [model.layers[layer_ix].get_weights()[0] for layer_ix in range(len(model.layers))\\\n",
    "         if 'conv' in model.layers[layer_ix].name]\n",
    "        weight_array = [np.array(i) for i in weights]\n",
    "    \n",
    "    return weight_array\n",
    "\n",
    "def get_filters_l1(model, layer=None):\n",
    "    \"\"\"Returns L1 norm of a Keras model filters at a given conv layer, if layer=None, returns a matrix of norms\n",
    "model is a Keras model\"\"\"\n",
    "    if layer or layer==0:\n",
    "        weights = get_filter_weights(model, layer)\n",
    "        num_filter = len(weights[0,0,0,:])\n",
    "        norms_dict = {}\n",
    "        norms = []\n",
    "        for i in range(num_filter):\n",
    "            l1_norm = np.sum(abs(weights[:,:,:,i]))\n",
    "            norms.append(l1_norm)\n",
    "    else:\n",
    "        weights = get_filter_weights(model)\n",
    "        max_kernels = max([layr.shape[3] for layr in weights])\n",
    "        norms = np.empty((len(weights), max_kernels))\n",
    "        norms[:] = np.NaN\n",
    "        for layer_ix in range(len(weights)):\n",
    "            # compute norm of the filters\n",
    "            kernel_size = weights[layer_ix][:,:,:,0].size\n",
    "            nb_filters = weights[layer_ix].shape[3]\n",
    "            kernels = weights[layer_ix]\n",
    "            l1 = [np.sum(abs(kernels[:,:,:,i])) for i in range(nb_filters)]\n",
    "            # divide by shape of the filters\n",
    "            l1 = np.array(l1) / kernel_size\n",
    "            norms[layer_ix, :nb_filters] = l1\n",
    "    return norms"
   ]
  },
  {
   "cell_type": "code",
   "execution_count": 9,
   "metadata": {
    "id": "yFiJt2HimHn0"
   },
   "outputs": [],
   "source": [
    "def get_filters_apoz(model, layer=None):\n",
    "    \n",
    "    # Get a sample of the train set , or should it be the validation set ?\n",
    "    test_generator = ImageDataGenerator(rescale=1./255, validation_split=0.1)\n",
    "\n",
    "    apoz_generator = test_generator.flow_from_directory(\n",
    "                \"../../datasets/imagenette2-160/train/\",\n",
    "                batch_size = 1,\n",
    "                subset='validation',\n",
    "                shuffle = False)\n",
    "    \n",
    "    if layer or layer ==0:\n",
    "        assert 'conv' in model.layers[layer].name, \"The layer provided is not a convolution layer\"\n",
    "        weights_array = get_filter_weights(model, layer)\n",
    "        act_ix = layer + 1\n",
    "        nb_filters = weights_array.shape[3]\n",
    "        apoz = compute_apoz(model, act_ix, nb_filters, apoz_generator)\n",
    "                \n",
    "    else :\n",
    "        weights_array = get_filter_weights(model)\n",
    "        max_kernels = max([layr.shape[3] for layr in weights_array])\n",
    "\n",
    "        conv_indexes = [i for i, v in enumerate(model.layers) if 'conv' in v.name]\n",
    "        print('------------------------------------------------')\n",
    "        activations_indexes = [i for i,v in enumerate(model.layers) if 'activation' \\\n",
    "                       in v.name and 'conv' in model.layers[i-1].name]\n",
    "        for i,v in enumerate(model.layers):\n",
    "          print(i)\n",
    "          print(v)\n",
    "        print('------------------------------------------------')\n",
    "        # create nd array to collect values\n",
    "        apoz = np.zeros((len(weights_array), max_kernels))\n",
    "\n",
    "        for i, act_ix in enumerate(activations_indexes):\n",
    "            # score this sample with our model (trimmed to the layer of interest)\n",
    "            nb_filters = weights_array[i].shape[3]\n",
    "            apoz_layer = compute_apoz(model, act_ix, nb_filters, apoz_generator)\n",
    "            print('APOZ de la capa {}:'.format(i))\n",
    "            print(apoz_layer)\n",
    "            apoz[i, :nb_filters] = apoz_layer\n",
    "        \n",
    "    return apoz\n",
    "\n",
    "\n",
    "def compute_apoz(model, layer_ix, nb_filters, generator):\n",
    "    \"\"\"Compute Average percentage of zeros over a layers activation maps\"\"\"\n",
    "    act_layer = model.get_layer(index=layer_ix)\n",
    "    node_index = 0\n",
    "    temp_model = Model(model.inputs,\n",
    "                               act_layer.get_output_at(node_index)\n",
    "                              )\n",
    "\n",
    "\n",
    "            # count the percentage of zeros per activation\n",
    "    a = temp_model.predict_generator(generator,944, workers=3, verbose=1)\n",
    "    activations = a.reshape(a.shape[0]*a.shape[1]*a.shape[2],nb_filters).T\n",
    "    apoz_layer = np.sum(activations == 0, axis=1) / activations.shape[1]\n",
    "    \n",
    "    return apoz_layer"
   ]
  },
  {
   "cell_type": "code",
   "execution_count": 10,
   "metadata": {
    "id": "XhppIK899EpC"
   },
   "outputs": [],
   "source": [
    "#function to return pruned filters with apoz method\n",
    "def prune_apoz(model, n_pruned, layer=None):\n",
    "    \"\"\"returns list of indexes of filter to prune or a matrix layer X filter to prune\"\"\"\n",
    "    if layer or layer==0:\n",
    "        apoz = get_filters_apoz(model,layer)\n",
    "        to_prune = np.argsort(apoz)[::-1][:n_pruned]\n",
    "    \n",
    "    else:\n",
    "        apoz = get_filters_apoz(model)\n",
    "        print(apoz)\n",
    "        print('-------------')\n",
    "        to_prune = biggest_indices(apoz, n_pruned)\n",
    "        print('to prune')\n",
    "        print(to_prune)\n",
    "    \n",
    "    return to_prune\n",
    "\n",
    "#function to return pruned filters with l1 method\n",
    "def prune_l1(model, n_pruned, layer=None):\n",
    "    \"\"\"returns list of indexes of filter to prune or a matrix layer X filter to prune\"\"\"\n",
    "    if layer or layer==0:\n",
    "        norms = get_filters_l1(model,layer)\n",
    "        to_prune = np.argsort(norms)[:n_pruned]\n",
    "    \n",
    "    else:\n",
    "        norms = get_filters_l1(model)\n",
    "        to_prune = smallest_indices(norms, n_pruned)\n",
    "    \n",
    "    return to_prune\n",
    "\n",
    "def prune_random(model, n_pruned, layer=None):\n",
    "    \"\"\"returns list of indexes of filter to prune or a matrix layer X filter to prune\"\"\"\n",
    "    weights = get_filter_weights(model, layer)\n",
    "    if layer or layer==0:\n",
    "        n_filters = weights.shape[3]\n",
    "        to_prune = np.random.choice(range(n_filters), n_pruned, replace=False)\n",
    "    else:\n",
    "        layer_ix = np.random.choice(len(weights))\n",
    "        filters = weights[layer_ix].shape[3]\n",
    "        filter_ix = np.random.choice(range(filters))\n",
    "        to_prune = [[layer_ix, filter_ix]]\n",
    "\n",
    "        for i in range(n_pruned-1):\n",
    "            while [layer_ix, filter_ix] in to_prune :\n",
    "                #choose layer\n",
    "                layer_ix = np.random.choice(len(weights))\n",
    "                #choose filter \n",
    "                filters = weights[layer_ix].shape[3]\n",
    "                filter_ix = np.random.choice(range(filters))\n",
    "            to_prune.append([layer_ix, filter_ix])\n",
    "\n",
    "        to_prune = np.array(to_prune)\n",
    "    return to_prune"
   ]
  },
  {
   "cell_type": "code",
   "execution_count": 11,
   "metadata": {
    "id": "tg74IXvcmKmZ"
   },
   "outputs": [],
   "source": [
    "def compute_pruned_count(model, perc=0.1, layer=None):\n",
    "    if layer or layer ==0:\n",
    "        # count nb of filters\n",
    "        nb_filters = model.layers[layer].output_shape[3]\n",
    "    else:\n",
    "        nb_filters = np.sum([model.layers[i].output_shape[3] for i, layer in enumerate(model.layers) \n",
    "                                if 'conv' in model.layers[i].name])\n",
    "            \n",
    "    n_pruned = int(np.floor(perc*nb_filters))\n",
    "    return n_pruned\n",
    "\n",
    "\n",
    "def smallest_indices(array, N):\n",
    "    idx = array.ravel().argsort()[:N]\n",
    "    return np.stack(np.unravel_index(idx, array.shape)).T\n",
    "\n",
    "def biggest_indices(array, N):\n",
    "    idx = array.ravel().argsort()[::-1][:N]\n",
    "    return np.stack(np.unravel_index(idx, array.shape)).T"
   ]
  },
  {
   "cell_type": "code",
   "execution_count": 12,
   "metadata": {
    "id": "DRYFjOF6mMXA"
   },
   "outputs": [],
   "source": [
    "from kerassurgeon.operations import delete_channels, delete_layer\n",
    "from kerassurgeon import Surgeon\n",
    "\n",
    "def prune_one_layer(model, pruned_indexes, layer_ix, opt):\n",
    "    \"\"\"Prunes one layer based on a Keras Model, layer index \n",
    "    and indexes of filters to prune\"\"\"\n",
    "    model_pruned = delete_channels(model, model.layers[layer_ix], pruned_indexes)\n",
    "    model_pruned.compile(loss='categorical_crossentropy',\n",
    "                          optimizer=opt,\n",
    "                          metrics=['accuracy'])\n",
    "    return model_pruned\n",
    "\n",
    "def prune_multiple_layers(model, pruned_matrix, opt):\n",
    "    \"\"\"Prunes several layers based on a Keras Model, layer index and matrix \n",
    "    of indexes of filters to prune\"\"\"\n",
    "    conv_indexes = [i for i, v in enumerate(model.layers) if 'conv' in v.name]\n",
    "    layers_to_prune = np.unique(pruned_matrix[:,0])\n",
    "    surgeon = Surgeon(model, copy=True)\n",
    "    to_prune = pruned_matrix\n",
    "    to_prune[:,0] = np.array([conv_indexes[i] for i in to_prune[:,0]])\n",
    "    layers_to_prune = np.unique(to_prune[:,0])\n",
    "    for layer_ix in layers_to_prune :\n",
    "        pruned_filters = [x[1] for x in to_prune if x[0]==layer_ix]\n",
    "        print('filtros a podar:')\n",
    "        print(pruned_filters)\n",
    "        pruned_layer = model.layers[layer_ix]\n",
    "        print('capa a podar:')\n",
    "        print(pruned_layer)\n",
    "        surgeon.add_job('delete_channels', pruned_layer, channels=pruned_filters)\n",
    "    \n",
    "    model_pruned = surgeon.operate()\n",
    "    model_pruned.compile(loss='categorical_crossentropy',\n",
    "              optimizer=opt,\n",
    "              metrics=['accuracy'])\n",
    "    \n",
    "    return model_pruned"
   ]
  },
  {
   "cell_type": "code",
   "execution_count": 13,
   "metadata": {
    "id": "QngxSqW3mOXi"
   },
   "outputs": [],
   "source": [
    "def prune_model(model, perc, opt, method='l1', layer=None):\n",
    "    \"\"\"Prune a Keras model using different methods\n",
    "    Arguments:\n",
    "        model: Keras Model object\n",
    "        perc: a float between 0 and 1\n",
    "        method: method to prune, can be one of ['l1','apoz','random']\n",
    "    Returns:\n",
    "        A pruned Keras Model object\n",
    "    \n",
    "    \"\"\"\n",
    "    assert method in ['l1','apoz','random'], \"Invalid pruning method\"\n",
    "    assert perc >=0 and perc <1, \"Invalid pruning percentage\"\n",
    "    \n",
    "    \n",
    "    n_pruned = compute_pruned_count(model, perc, layer)\n",
    "    \n",
    "    if method =='l1':\n",
    "        to_prune = prune_l1(model, n_pruned, layer)    \n",
    "    if method =='apoz':\n",
    "        to_prune = prune_apoz(model, n_pruned, layer)\n",
    "    if method =='random':\n",
    "        to_prune = prune_random(model, n_pruned, layer)    \n",
    "    if layer or layer ==0:\n",
    "        model_pruned = prune_one_layer(model, to_prune, layer, opt)\n",
    "    else:\n",
    "        model_pruned = prune_multiple_layers(model, to_prune, opt)\n",
    "            \n",
    "    return model_pruned"
   ]
  },
  {
   "cell_type": "code",
   "execution_count": 14,
   "metadata": {
    "colab": {
     "base_uri": "https://localhost:8080/"
    },
    "id": "hqnPEc4amQu2",
    "outputId": "7acae651-8407-4ed0-ca1c-c0c06ff6140c"
   },
   "outputs": [
    {
     "name": "stdout",
     "output_type": "stream",
     "text": [
      "filtros a podar:\n",
      "[8, 19, 5, 31, 20, 25, 15, 10, 7, 28, 16, 23, 9, 30, 14, 21, 12, 18, 11, 2, 1, 22, 4]\n",
      "capa a podar:\n",
      "<tensorflow.python.keras.layers.convolutional.Conv2D object at 0x7f28bfff3ef0>\n",
      "filtros a podar:\n",
      "[31, 15, 25, 18, 9, 12, 21, 2, 22, 19, 17, 27, 0, 16, 5, 7, 6, 1, 4, 8, 10, 14, 11, 30, 29, 26]\n",
      "capa a podar:\n",
      "<tensorflow.python.keras.layers.convolutional.Conv2D object at 0x7f28afa48ba8>\n",
      "filtros a podar:\n",
      "[29, 17, 27, 57, 43, 62, 33, 38, 6, 55, 53, 0, 60, 63, 42, 28, 45, 9, 3, 4, 37, 35, 48, 1, 15, 19, 32, 8, 61, 12, 21, 51, 58]\n",
      "capa a podar:\n",
      "<tensorflow.python.keras.layers.convolutional.Conv2D object at 0x7f28981d76d8>\n",
      "filtros a podar:\n",
      "[20, 19, 30, 52, 36, 29, 6, 21, 40, 9, 47, 39, 44, 18, 34, 61, 35, 45, 58, 32, 11, 10, 41, 62, 3, 1, 13, 46, 14, 60, 26, 42, 59, 33, 53, 56, 25]\n",
      "capa a podar:\n",
      "<tensorflow.python.keras.layers.convolutional.Conv2D object at 0x7f28981881d0>\n",
      "filtros a podar:\n",
      "[64, 102, 8, 48, 53, 17, 3, 96, 32, 83, 16, 93, 63, 92, 51, 59, 66, 27, 58, 81, 14, 103, 19, 41, 67, 82, 105, 36, 54, 109, 84, 107, 116, 13]\n",
      "capa a podar:\n",
      "<tensorflow.python.keras.layers.convolutional.Conv2D object at 0x7f2898192c88>\n",
      "filtros a podar:\n",
      "[4, 18, 88, 111, 52, 113, 59, 65, 21, 80, 8, 70, 5, 86, 85, 102, 44, 6, 24, 83, 13, 11, 84, 49, 77, 81, 100, 110, 107, 31, 89, 32, 43, 50, 126, 28, 53, 124, 94, 64, 27, 45, 68, 74, 29, 118, 122, 26, 112]\n",
      "capa a podar:\n",
      "<tensorflow.python.keras.layers.convolutional.Conv2D object at 0x7f28981247b8>\n",
      "filtros a podar:\n",
      "[235, 252, 121, 234, 17, 57, 242, 177, 120, 11, 35, 64, 66, 171, 219, 8, 104, 207, 76, 37, 254, 214, 201, 24, 117, 220, 78, 247, 19, 20, 27, 125, 128, 150, 113, 232, 114, 50, 180, 169, 255, 29, 44, 149, 45, 13, 188, 60, 0]\n",
      "capa a podar:\n",
      "<tensorflow.python.keras.layers.convolutional.Conv2D object at 0x7f28981352b0>\n",
      "filtros a podar:\n",
      "[228, 34, 155, 23, 105, 47, 83, 188, 89, 214, 204, 103, 107, 170, 175, 149, 151, 210, 172, 20, 211, 238, 19, 131, 15, 241, 142, 189, 10, 6, 216, 126, 183, 38, 240, 67, 191]\n",
      "capa a podar:\n",
      "<tensorflow.python.keras.layers.convolutional.Conv2D object at 0x7f28984afe48>\n",
      "Deleting 23/32 channels from layer: conv2d\n",
      "Deleting 26/32 channels from layer: conv2d_1\n",
      "Deleting 33/64 channels from layer: conv2d_2\n",
      "Deleting 37/64 channels from layer: conv2d_3\n",
      "Deleting 34/128 channels from layer: conv2d_4\n",
      "Deleting 49/128 channels from layer: conv2d_5\n",
      "Deleting 49/256 channels from layer: conv2d_6\n",
      "Deleting 37/256 channels from layer: conv2d_7\n",
      "Model: \"functional_1\"\n",
      "_________________________________________________________________\n",
      "Layer (type)                 Output Shape              Param #   \n",
      "=================================================================\n",
      "conv2d_input (InputLayer)    [(None, 160, 160, 3)]     0         \n",
      "_________________________________________________________________\n",
      "conv2d (Conv2D)              (None, 160, 160, 9)       252       \n",
      "_________________________________________________________________\n",
      "activation (Activation)      (None, 160, 160, 9)       0         \n",
      "_________________________________________________________________\n",
      "conv2d_1 (Conv2D)            (None, 158, 158, 6)       492       \n",
      "_________________________________________________________________\n",
      "activation_1 (Activation)    (None, 158, 158, 6)       0         \n",
      "_________________________________________________________________\n",
      "max_pooling2d (MaxPooling2D) (None, 79, 79, 6)         0         \n",
      "_________________________________________________________________\n",
      "dropout (Dropout)            (None, 79, 79, 6)         0         \n",
      "_________________________________________________________________\n",
      "conv2d_2 (Conv2D)            (None, 79, 79, 31)        1705      \n",
      "_________________________________________________________________\n",
      "activation_2 (Activation)    (None, 79, 79, 31)        0         \n",
      "_________________________________________________________________\n",
      "conv2d_3 (Conv2D)            (None, 77, 77, 27)        7560      \n",
      "_________________________________________________________________\n",
      "activation_3 (Activation)    (None, 77, 77, 27)        0         \n",
      "_________________________________________________________________\n",
      "max_pooling2d_1 (MaxPooling2 (None, 38, 38, 27)        0         \n",
      "_________________________________________________________________\n",
      "dropout_1 (Dropout)          (None, 38, 38, 27)        0         \n",
      "_________________________________________________________________\n",
      "conv2d_4 (Conv2D)            (None, 38, 38, 94)        22936     \n",
      "_________________________________________________________________\n",
      "activation_4 (Activation)    (None, 38, 38, 94)        0         \n",
      "_________________________________________________________________\n",
      "conv2d_5 (Conv2D)            (None, 36, 36, 79)        66913     \n",
      "_________________________________________________________________\n",
      "activation_5 (Activation)    (None, 36, 36, 79)        0         \n",
      "_________________________________________________________________\n",
      "max_pooling2d_2 (MaxPooling2 (None, 18, 18, 79)        0         \n",
      "_________________________________________________________________\n",
      "dropout_2 (Dropout)          (None, 18, 18, 79)        0         \n",
      "_________________________________________________________________\n",
      "conv2d_6 (Conv2D)            (None, 18, 18, 207)       147384    \n",
      "_________________________________________________________________\n",
      "activation_6 (Activation)    (None, 18, 18, 207)       0         \n",
      "_________________________________________________________________\n",
      "conv2d_7 (Conv2D)            (None, 16, 16, 219)       408216    \n",
      "_________________________________________________________________\n",
      "activation_7 (Activation)    (None, 16, 16, 219)       0         \n",
      "_________________________________________________________________\n",
      "max_pooling2d_3 (MaxPooling2 (None, 8, 8, 219)         0         \n",
      "_________________________________________________________________\n",
      "dropout_3 (Dropout)          (None, 8, 8, 219)         0         \n",
      "_________________________________________________________________\n",
      "flatten (Flatten)            (None, 14016)             0         \n",
      "_________________________________________________________________\n",
      "dense (Dense)                (None, 512)               7176704   \n",
      "_________________________________________________________________\n",
      "activation_8 (Activation)    (None, 512)               0         \n",
      "_________________________________________________________________\n",
      "dropout_4 (Dropout)          (None, 512)               0         \n",
      "_________________________________________________________________\n",
      "dense_1 (Dense)              (None, 10)                5130      \n",
      "_________________________________________________________________\n",
      "activation_9 (Activation)    (None, 10)                0         \n",
      "=================================================================\n",
      "Total params: 7,837,292\n",
      "Trainable params: 7,837,292\n",
      "Non-trainable params: 0\n",
      "_________________________________________________________________\n"
     ]
    }
   ],
   "source": [
    "# Podar modelo\n",
    "model_pruned = prune_model(imagenettenet, PERCENT, opt, method=METHOD)\n",
    "model_pruned.summary()"
   ]
  },
  {
   "cell_type": "code",
   "execution_count": 15,
   "metadata": {},
   "outputs": [
    {
     "name": "stdout",
     "output_type": "stream",
     "text": [
      "WARNING:tensorflow:From <ipython-input-15-9b9e5c836964>:6: Model.fit_generator (from tensorflow.python.keras.engine.training) is deprecated and will be removed in a future version.\n",
      "Instructions for updating:\n",
      "Please use Model.fit, which supports generators.\n"
     ]
    },
    {
     "name": "stderr",
     "output_type": "stream",
     "text": [
      "WARNING:tensorflow:From <ipython-input-15-9b9e5c836964>:6: Model.fit_generator (from tensorflow.python.keras.engine.training) is deprecated and will be removed in a future version.\n",
      "Instructions for updating:\n",
      "Please use Model.fit, which supports generators.\n"
     ]
    },
    {
     "name": "stdout",
     "output_type": "stream",
     "text": [
      "Epoch 1/4\n",
      "296/296 [==============================] - 154s 520ms/step - loss: 1.9873 - accuracy: 0.3064 - val_loss: 1.7574 - val_accuracy: 0.4247\n",
      "Epoch 2/4\n",
      "296/296 [==============================] - 152s 512ms/step - loss: 1.7037 - accuracy: 0.4484 - val_loss: 1.5802 - val_accuracy: 0.5083\n",
      "Epoch 3/4\n",
      "296/296 [==============================] - 150s 507ms/step - loss: 1.5809 - accuracy: 0.4972 - val_loss: 1.5842 - val_accuracy: 0.5149\n",
      "Epoch 4/4\n",
      "296/296 [==============================] - 153s 519ms/step - loss: 1.4925 - accuracy: 0.5369 - val_loss: 1.5126 - val_accuracy: 0.5434\n"
     ]
    }
   ],
   "source": [
    "# Fine tune\n",
    "history = model_pruned.fit_generator(\n",
    "          train,\n",
    "          epochs=epochs,\n",
    "          validation_data=val,\n",
    "          verbose = 1\n",
    ")"
   ]
  },
  {
   "cell_type": "code",
   "execution_count": 16,
   "metadata": {
    "id": "zHvxB8gIGmSm"
   },
   "outputs": [],
   "source": [
    "# Guardar a disco modelo de Keras en formato h5 y h5py\n",
    "model_pruned.save('imagenettenetKerasPruned.h5')"
   ]
  },
  {
   "cell_type": "code",
   "execution_count": 17,
   "metadata": {},
   "outputs": [
    {
     "name": "stdout",
     "output_type": "stream",
     "text": [
      "WARNING:tensorflow:From /home/lucas/tfg-env/lib/python3.6/site-packages/tensorflow/python/training/tracking/tracking.py:111: Model.state_updates (from tensorflow.python.keras.engine.training) is deprecated and will be removed in a future version.\n",
      "Instructions for updating:\n",
      "This property should not be used in TensorFlow 2.0, as updates are applied automatically.\n"
     ]
    },
    {
     "name": "stderr",
     "output_type": "stream",
     "text": [
      "WARNING:tensorflow:From /home/lucas/tfg-env/lib/python3.6/site-packages/tensorflow/python/training/tracking/tracking.py:111: Model.state_updates (from tensorflow.python.keras.engine.training) is deprecated and will be removed in a future version.\n",
      "Instructions for updating:\n",
      "This property should not be used in TensorFlow 2.0, as updates are applied automatically.\n"
     ]
    },
    {
     "name": "stdout",
     "output_type": "stream",
     "text": [
      "WARNING:tensorflow:From /home/lucas/tfg-env/lib/python3.6/site-packages/tensorflow/python/training/tracking/tracking.py:111: Layer.updates (from tensorflow.python.keras.engine.base_layer) is deprecated and will be removed in a future version.\n",
      "Instructions for updating:\n",
      "This property should not be used in TensorFlow 2.0, as updates are applied automatically.\n"
     ]
    },
    {
     "name": "stderr",
     "output_type": "stream",
     "text": [
      "WARNING:tensorflow:From /home/lucas/tfg-env/lib/python3.6/site-packages/tensorflow/python/training/tracking/tracking.py:111: Layer.updates (from tensorflow.python.keras.engine.base_layer) is deprecated and will be removed in a future version.\n",
      "Instructions for updating:\n",
      "This property should not be used in TensorFlow 2.0, as updates are applied automatically.\n"
     ]
    },
    {
     "name": "stdout",
     "output_type": "stream",
     "text": [
      "INFO:tensorflow:Assets written to: /tmp/tmp0y7r9rd_/assets\n"
     ]
    },
    {
     "name": "stderr",
     "output_type": "stream",
     "text": [
      "INFO:tensorflow:Assets written to: /tmp/tmp0y7r9rd_/assets\n"
     ]
    },
    {
     "name": "stdout",
     "output_type": "stream",
     "text": [
      "INFO:tensorflow:Assets written to: /tmp/tmplho9lqvt/assets\n"
     ]
    },
    {
     "name": "stderr",
     "output_type": "stream",
     "text": [
      "INFO:tensorflow:Assets written to: /tmp/tmplho9lqvt/assets\n"
     ]
    },
    {
     "data": {
      "text/plain": [
       "7850224"
      ]
     },
     "execution_count": 17,
     "metadata": {},
     "output_type": "execute_result"
    }
   ],
   "source": [
    "# Convertir a Tensorflow Lite sin Cuantización\n",
    "converter = tf.lite.TFLiteConverter.from_keras_model(model_pruned)\n",
    "tflite_model = converter.convert()\n",
    "# Guardar a disco\n",
    "open(\"imagenettenetTFLitePruned.tflite\", \"wb\").write(tflite_model)\n",
    "\n",
    "# Convertir a Tensorflow Lite con Cuantización de rango dinámico\n",
    "converter_q = tf.lite.TFLiteConverter.from_keras_model(model_pruned)\n",
    "converter_q.optimizations = [tf.lite.Optimize.DEFAULT]\n",
    "tflite_quant_model = converter_q.convert()\n",
    "# Guardar a disco\n",
    "open(\"imagenettenetTFLitePrunedQuant.tflite\", \"wb\").write(tflite_quant_model)"
   ]
  },
  {
   "cell_type": "code",
   "execution_count": 18,
   "metadata": {},
   "outputs": [
    {
     "data": {
      "text/plain": [
       "'\\nPARTE DE COMPARACIÓN DE TAMAÑOS\\n'"
      ]
     },
     "execution_count": 18,
     "metadata": {},
     "output_type": "execute_result"
    }
   ],
   "source": [
    "\"\"\"\n",
    "PARTE DE COMPARACIÓN DE TAMAÑOS\n",
    "\"\"\""
   ]
  },
  {
   "cell_type": "code",
   "execution_count": 19,
   "metadata": {},
   "outputs": [],
   "source": [
    "def get_gzipped_model_size(file):\n",
    "  # Returns size of gzipped model, in bytes.\n",
    "  import os\n",
    "  import zipfile\n",
    "\n",
    "  _, zipped_file = tempfile.mkstemp('.zip')\n",
    "  with zipfile.ZipFile(zipped_file, 'w', compression=zipfile.ZIP_DEFLATED) as f:\n",
    "    f.write(file)\n",
    "\n",
    "  return os.path.getsize(zipped_file)\n"
   ]
  },
  {
   "cell_type": "code",
   "execution_count": 20,
   "metadata": {},
   "outputs": [
    {
     "name": "stdout",
     "output_type": "stream",
     "text": [
      "El tamaño del modelo comprimido en Keras es 42549945.00 bytes\n",
      "------------------------------------------------------\n",
      "El tamaño del modelo comprimido en Keras PODADO es 30320021.00 bytes\n",
      "------------------------------------------------------\n",
      "El tamaño del modelo comprimido PODADO y en TFlite sin cuantizar es 18029982.00 bytes\n",
      "------------------------------------------------------\n",
      "El tamaño del modelo comprimido PODADO y en TFlite CUANTIZADO es 4085915.00 bytes\n"
     ]
    }
   ],
   "source": [
    "# Comparación de tamaños\n",
    "print(\"El tamaño del modelo comprimido en Keras es %.2f bytes\" % get_gzipped_model_size('../../models/IMAGENETTE_model/imagenetteNetKeras.h5'))\n",
    "print(\"------------------------------------------------------\")\n",
    "print(\"El tamaño del modelo comprimido en Keras PODADO es %.2f bytes\" % get_gzipped_model_size('imagenettenetKerasPruned.h5'))\n",
    "print(\"------------------------------------------------------\")\n",
    "print(\"El tamaño del modelo comprimido PODADO y en TFlite sin cuantizar es %.2f bytes\" % get_gzipped_model_size('imagenettenetTFLitePruned.tflite'))\n",
    "print(\"------------------------------------------------------\")\n",
    "print(\"El tamaño del modelo comprimido PODADO y en TFlite CUANTIZADO es %.2f bytes\" % get_gzipped_model_size('imagenettenetTFLitePrunedQuant.tflite'))"
   ]
  },
  {
   "cell_type": "code",
   "execution_count": 21,
   "metadata": {},
   "outputs": [
    {
     "data": {
      "text/plain": [
       "'\\nPARTE DE COMPARACIÓN DE PRECISIÓN Y TOMA DE TIEMPOS\\n'"
      ]
     },
     "execution_count": 21,
     "metadata": {},
     "output_type": "execute_result"
    }
   ],
   "source": [
    "\"\"\"\n",
    "PARTE DE COMPARACIÓN DE PRECISIÓN Y TOMA DE TIEMPOS\n",
    "\"\"\""
   ]
  },
  {
   "cell_type": "code",
   "execution_count": 22,
   "metadata": {},
   "outputs": [
    {
     "name": "stdout",
     "output_type": "stream",
     "text": [
      "123/123 [==============================] - 21s 172ms/step - loss: 1.0759 - accuracy: 0.7045\n",
      "\n",
      "accuracy: 70.45%\n"
     ]
    }
   ],
   "source": [
    "import time\n",
    "import statistics\n",
    "\n",
    "# Probaremos la precisión del modelo de Keras sin podar\n",
    "scores = imagenettenet.evaluate(val, batch_size=1, verbose=1)\n",
    "print(\"\\n%s: %.2f%%\" % (imagenettenet.metrics_names[1], scores[1]*100))"
   ]
  },
  {
   "cell_type": "code",
   "execution_count": 23,
   "metadata": {},
   "outputs": [],
   "source": [
    "def predict_tflite(tflite_model, test_batches, quantized):\n",
    "\n",
    "    # lista de tiempos \n",
    "    times=[]\n",
    "    # contador para el iterador\n",
    "    i=0\n",
    "\n",
    "    if(quantized):\n",
    "        # Instanciar un intérprete de Tensorflow lite\n",
    "        imagenette_quantized_interpreter = tf.lite.Interpreter('imagenettenetTFLitePrunedQuant.tflite')\n",
    "\n",
    "        # Reservar memoria para el modelo\n",
    "        imagenette_quantized_interpreter.allocate_tensors()\n",
    "\n",
    "        # Tensores de entrada y salida\n",
    "        input_details_quantized = imagenette_quantized_interpreter.get_input_details()[0]\n",
    "        output_details_quantized = imagenette_quantized_interpreter.get_output_details()[0]\n",
    "\n",
    "        # Arrays para almacenar resultados\n",
    "        y_pred_quantized = []\n",
    "        y_true = []#np.empty(shape=(3925, 10), dtype=output_details[\"dtype\"])\n",
    "\n",
    "        # Para cada elemento del conjunto de test ...\n",
    "        sample = next(test_batches)\n",
    "        while i<test_batches.__len__():\n",
    "            # Escribimos el tensor en la input de la red neuronal\n",
    "            imagenette_quantized_interpreter.set_tensor(input_details_quantized[\"index\"], sample[0])\n",
    "            # Invocamos al intérprete\n",
    "            init = time.time() # Comenzamos a medir el tiempo\n",
    "            imagenette_quantized_interpreter.invoke()\n",
    "            end = time.time() # Acabamos\n",
    "            times.append(end - init) # Elapsed time\n",
    "            # Guardamos la salida obtenida y la real\n",
    "            y_pred_quantized.append(to_categorical(imagenette_quantized_interpreter.get_tensor(output_details_quantized[\"index\"])[0].argmax(), 10))\n",
    "            y_true.append(sample[1][0])\n",
    "            sample = next(test_batches)\n",
    "            i = i+1\n",
    "            \n",
    "        \n",
    "        # Media de los tiempos de predicción en segs\n",
    "        print(\"Media de los tiempos de ejecución con cuantización: \" + str(statistics.mean(times)) + \"segs\")\n",
    "        accuracy_score = sklearn.metrics.accuracy_score(y_true, y_pred_quantized)\n",
    "        print(\"Accuracy score:\", accuracy_score)\n",
    "        #print(y_pred)\n",
    "        \n",
    "        return accuracy_score\n",
    "\n",
    "    else:\n",
    "        # Instanciar un intérprete de Tensorflow lite\n",
    "        imagenette_interpreter = tf.lite.Interpreter('imagenettenetTFLitePruned.tflite')\n",
    "\n",
    "        # Reservar memoria para el modelo\n",
    "        imagenette_interpreter.allocate_tensors()\n",
    "\n",
    "        # Tensores de entrada y salida\n",
    "        input_details = imagenette_interpreter.get_input_details()[0]\n",
    "        output_details = imagenette_interpreter.get_output_details()[0]\n",
    "\n",
    "        # Arrays para almacenar resultados \n",
    "        y_pred = []#np.empty(shape=(3925, 10), dtype=output_details[\"dtype\"])\n",
    "        y_true = []#np.empty(shape=(3925, 10), dtype=output_details[\"dtype\"])\n",
    "        # Para cada elemento del conjunto de test ...\n",
    "        sample = next(test_batches)\n",
    "        while i<test_batches.__len__():\n",
    "            # Escribimos el tensor en la input de la red neuronal\n",
    "            imagenette_interpreter.set_tensor(input_details[\"index\"], sample[0])\n",
    "            # Invocamos al intérprete\n",
    "            init = time.time() # Comenzamos a medir el tiempo\n",
    "            imagenette_interpreter.invoke()\n",
    "            end = time.time() # Acabamos\n",
    "            times.append(end - init) # Elapsed time\n",
    "            # Guardamos la salida \n",
    "            #print(to_categorical(imagenette_interpreter.get_tensor(output_details[\"index\"])[0].argmax(), 10))\n",
    "            #np.vstack((y_pred, to_categorical(imagenette_interpreter.get_tensor(output_details[\"index\"])[0].argmax(), 10)))\n",
    "            #np.vstack((y_true, sample[1]))\n",
    "            y_pred.append(to_categorical(imagenette_interpreter.get_tensor(output_details[\"index\"])[0].argmax(), 10))\n",
    "            y_true.append(sample[1][0])\n",
    "            sample = next(test_batches)\n",
    "            i = i+1\n",
    "\n",
    "        # Media de los tiempos de predicción en segs\n",
    "        print(\"Media de los tiempos de ejecución sin cuantización: \" + str(statistics.mean(times)) + \"segs\")\n",
    "        # Cálculo de la precisión\n",
    "        y_pred = np.array(y_pred)\n",
    "        y_true = np.array(y_true)\n",
    "        accuracy_score = sklearn.metrics.accuracy_score(y_true, y_pred)\n",
    "        print(\"Accuracy score:\", accuracy_score)\n",
    "        #print(y_pred)\n",
    "        \n",
    "        return accuracy_score"
   ]
  },
  {
   "cell_type": "code",
   "execution_count": 24,
   "metadata": {},
   "outputs": [
    {
     "name": "stdout",
     "output_type": "stream",
     "text": [
      "Found 3925 images belonging to 10 classes.\n",
      "123/123 [==============================] - 21s 171ms/step - loss: 1.0759 - accuracy: 0.7045\n",
      "123/123 [==============================] - 9s 76ms/step - loss: 1.5126 - accuracy: 0.5434\n",
      "Media de los tiempos de ejecución sin cuantización: 0.017496009510793505segs\n",
      "Accuracy score: 0.5434394904458598\n",
      "Media de los tiempos de ejecución con cuantización: 0.02793809216493254segs\n",
      "Accuracy score: 0.5431847133757962\n"
     ]
    }
   ],
   "source": [
    "# Preparar cjto. para ervaluación de modelos en TFLite \n",
    "test_gen = ImageDataGenerator(rescale=1./255)\n",
    "test_batches = test_imagegen.flow_from_directory(\"../../datasets/imagenette2-160/val/\", \n",
    "                                   class_mode=\"categorical\", \n",
    "                                   shuffle=True, \n",
    "                                   batch_size=1, \n",
    "                                   target_size=(160, 160))\n",
    "\n",
    "\n",
    "# Comparación de precisión\n",
    "_ , accuracy_tf = imagenettenet.evaluate(val, batch_size=1, verbose=1)\n",
    "_ ,accuracy_tfpruned = model_pruned.evaluate(val, batch_size=1, verbose=1)\n",
    "accuracy_no_quant_tflite = predict_tflite(tflite_model, test_batches, False)\n",
    "accuracy_quant_tflite = predict_tflite(tflite_quant_model, test_batches, True)"
   ]
  },
  {
   "cell_type": "code",
   "execution_count": 25,
   "metadata": {},
   "outputs": [
    {
     "data": {
      "text/html": [
       "<div>\n",
       "<style scoped>\n",
       "    .dataframe tbody tr th:only-of-type {\n",
       "        vertical-align: middle;\n",
       "    }\n",
       "\n",
       "    .dataframe tbody tr th {\n",
       "        vertical-align: top;\n",
       "    }\n",
       "\n",
       "    .dataframe thead th {\n",
       "        text-align: right;\n",
       "    }\n",
       "</style>\n",
       "<table border=\"1\" class=\"dataframe\">\n",
       "  <thead>\n",
       "    <tr style=\"text-align: right;\">\n",
       "      <th></th>\n",
       "      <th>Accuracy</th>\n",
       "    </tr>\n",
       "    <tr>\n",
       "      <th>Model</th>\n",
       "      <th></th>\n",
       "    </tr>\n",
       "  </thead>\n",
       "  <tbody>\n",
       "    <tr>\n",
       "      <th>Keras</th>\n",
       "      <td>0.704459</td>\n",
       "    </tr>\n",
       "    <tr>\n",
       "      <th>Keras podado</th>\n",
       "      <td>0.543440</td>\n",
       "    </tr>\n",
       "    <tr>\n",
       "      <th>TensorFlow Lite no Cuant.</th>\n",
       "      <td>0.543439</td>\n",
       "    </tr>\n",
       "    <tr>\n",
       "      <th>TensorFlow Lite Cuant.</th>\n",
       "      <td>0.543185</td>\n",
       "    </tr>\n",
       "  </tbody>\n",
       "</table>\n",
       "</div>"
      ],
      "text/plain": [
       "                           Accuracy\n",
       "Model                              \n",
       "Keras                      0.704459\n",
       "Keras podado               0.543440\n",
       "TensorFlow Lite no Cuant.  0.543439\n",
       "TensorFlow Lite Cuant.     0.543185"
      ]
     },
     "execution_count": 25,
     "metadata": {},
     "output_type": "execute_result"
    }
   ],
   "source": [
    "df = pd.DataFrame.from_records(\n",
    "    [[\"Keras\", accuracy_tf],\n",
    "     [\"Keras podado\", accuracy_tfpruned],\n",
    "     [\"TensorFlow Lite no Cuant.\", accuracy_no_quant_tflite],\n",
    "     [\"TensorFlow Lite Cuant.\", accuracy_quant_tflite]],\n",
    "     columns = [\"Model\", \"Accuracy\"], index=\"Model\")\n",
    "df"
   ]
  },
  {
   "cell_type": "code",
   "execution_count": null,
   "metadata": {},
   "outputs": [],
   "source": []
  }
 ],
 "metadata": {
  "colab": {
   "collapsed_sections": [],
   "name": "Untitled0.ipynb",
   "provenance": []
  },
  "kernelspec": {
   "display_name": "Python 3",
   "language": "python",
   "name": "python3"
  },
  "language_info": {
   "codemirror_mode": {
    "name": "ipython",
    "version": 3
   },
   "file_extension": ".py",
   "mimetype": "text/x-python",
   "name": "python",
   "nbconvert_exporter": "python",
   "pygments_lexer": "ipython3",
   "version": "3.6.9"
  },
  "metadata": {
   "interpreter": {
    "hash": "15dad678111f4055199e27812f8fd807e7e8880170b4c46fb7d59063d2f6dd63"
   }
  }
 },
 "nbformat": 4,
 "nbformat_minor": 1
}
